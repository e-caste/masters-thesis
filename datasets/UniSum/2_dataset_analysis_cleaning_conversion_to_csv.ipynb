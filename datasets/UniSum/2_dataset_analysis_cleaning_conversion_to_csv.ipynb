{
 "cells": [
  {
   "cell_type": "code",
   "execution_count": 1,
   "id": "33862bb1-e0dd-4b34-83c9-1372eed39bf1",
   "metadata": {},
   "outputs": [
    {
     "name": "stdout",
     "output_type": "stream",
     "text": [
      "Requirement already satisfied: pandas in /home/caste/Documents/thesis/venv/lib/python3.10/site-packages (1.5.2)\n",
      "Requirement already satisfied: seaborn in /home/caste/Documents/thesis/venv/lib/python3.10/site-packages (0.12.1)\n",
      "Requirement already satisfied: transformers in /home/caste/Documents/thesis/venv/lib/python3.10/site-packages (4.25.1)\n",
      "Requirement already satisfied: tqdm in /home/caste/Documents/thesis/venv/lib/python3.10/site-packages (4.64.1)\n",
      "Requirement already satisfied: numpy in /home/caste/Documents/thesis/venv/lib/python3.10/site-packages (1.23.5)\n",
      "Requirement already satisfied: pytz>=2020.1 in /home/caste/Documents/thesis/venv/lib/python3.10/site-packages (from pandas) (2022.6)\n",
      "Requirement already satisfied: python-dateutil>=2.8.1 in /home/caste/Documents/thesis/venv/lib/python3.10/site-packages (from pandas) (2.8.2)\n",
      "Requirement already satisfied: matplotlib!=3.6.1,>=3.1 in /home/caste/Documents/thesis/venv/lib/python3.10/site-packages (from seaborn) (3.6.2)\n",
      "Requirement already satisfied: filelock in /home/caste/Documents/thesis/venv/lib/python3.10/site-packages (from transformers) (3.8.2)\n",
      "Requirement already satisfied: pyyaml>=5.1 in /home/caste/Documents/thesis/venv/lib/python3.10/site-packages (from transformers) (6.0)\n",
      "Requirement already satisfied: packaging>=20.0 in /home/caste/Documents/thesis/venv/lib/python3.10/site-packages (from transformers) (22.0)\n",
      "Requirement already satisfied: huggingface-hub<1.0,>=0.10.0 in /home/caste/Documents/thesis/venv/lib/python3.10/site-packages (from transformers) (0.11.1)\n",
      "Requirement already satisfied: requests in /home/caste/Documents/thesis/venv/lib/python3.10/site-packages (from transformers) (2.28.1)\n",
      "Requirement already satisfied: regex!=2019.12.17 in /home/caste/Documents/thesis/venv/lib/python3.10/site-packages (from transformers) (2022.10.31)\n",
      "Requirement already satisfied: tokenizers!=0.11.3,<0.14,>=0.11.1 in /home/caste/Documents/thesis/venv/lib/python3.10/site-packages (from transformers) (0.13.2)\n",
      "Requirement already satisfied: typing-extensions>=3.7.4.3 in /home/caste/Documents/thesis/venv/lib/python3.10/site-packages (from huggingface-hub<1.0,>=0.10.0->transformers) (4.4.0)\n",
      "Requirement already satisfied: kiwisolver>=1.0.1 in /home/caste/Documents/thesis/venv/lib/python3.10/site-packages (from matplotlib!=3.6.1,>=3.1->seaborn) (1.4.4)\n",
      "Requirement already satisfied: pyparsing>=2.2.1 in /home/caste/Documents/thesis/venv/lib/python3.10/site-packages (from matplotlib!=3.6.1,>=3.1->seaborn) (3.0.9)\n",
      "Requirement already satisfied: pillow>=6.2.0 in /home/caste/Documents/thesis/venv/lib/python3.10/site-packages (from matplotlib!=3.6.1,>=3.1->seaborn) (9.3.0)\n",
      "Requirement already satisfied: contourpy>=1.0.1 in /home/caste/Documents/thesis/venv/lib/python3.10/site-packages (from matplotlib!=3.6.1,>=3.1->seaborn) (1.0.6)\n",
      "Requirement already satisfied: cycler>=0.10 in /home/caste/Documents/thesis/venv/lib/python3.10/site-packages (from matplotlib!=3.6.1,>=3.1->seaborn) (0.11.0)\n",
      "Requirement already satisfied: fonttools>=4.22.0 in /home/caste/Documents/thesis/venv/lib/python3.10/site-packages (from matplotlib!=3.6.1,>=3.1->seaborn) (4.38.0)\n",
      "Requirement already satisfied: six>=1.5 in /home/caste/Documents/thesis/venv/lib/python3.10/site-packages (from python-dateutil>=2.8.1->pandas) (1.16.0)\n",
      "Requirement already satisfied: certifi>=2017.4.17 in /home/caste/Documents/thesis/venv/lib/python3.10/site-packages (from requests->transformers) (2022.12.7)\n",
      "Requirement already satisfied: urllib3<1.27,>=1.21.1 in /home/caste/Documents/thesis/venv/lib/python3.10/site-packages (from requests->transformers) (1.26.13)\n",
      "Requirement already satisfied: idna<4,>=2.5 in /home/caste/Documents/thesis/venv/lib/python3.10/site-packages (from requests->transformers) (3.4)\n",
      "Requirement already satisfied: charset-normalizer<3,>=2 in /home/caste/Documents/thesis/venv/lib/python3.10/site-packages (from requests->transformers) (2.1.1)\n"
     ]
    }
   ],
   "source": [
    "!pip install pandas seaborn transformers tqdm numpy"
   ]
  },
  {
   "cell_type": "code",
   "execution_count": 2,
   "id": "8d35acbb-861c-4f79-93c5-08979f61eb21",
   "metadata": {},
   "outputs": [],
   "source": [
    "import json\n",
    "import numpy as np\n",
    "import pandas as pd\n",
    "import seaborn as sns\n",
    "from tqdm.auto import tqdm\n",
    "from transformers import BartTokenizerFast\n",
    "\n",
    "from common import *"
   ]
  },
  {
   "cell_type": "code",
   "execution_count": 3,
   "id": "ea18ac00-c46e-4704-8760-6a7060386f8c",
   "metadata": {},
   "outputs": [],
   "source": [
    "dataset = json.load(open(aggregated_dataset_file, \"r\"))\n",
    "tokenizer = BartTokenizerFast.from_pretrained(\"facebook/bart-base\")"
   ]
  },
  {
   "cell_type": "markdown",
   "id": "7271614f-9186-4bf3-9d8e-124a33ac9b18",
   "metadata": {},
   "source": [
    "### Convert JSON nested dataset to CSV-like tabular format"
   ]
  },
  {
   "cell_type": "code",
   "execution_count": 4,
   "id": "8a2f5561-de78-4807-a3f2-d14a5d706344",
   "metadata": {},
   "outputs": [
    {
     "data": {
      "application/vnd.jupyter.widget-view+json": {
       "model_id": "e7f996a8030d4775808e6a8d398e3aa2",
       "version_major": 2,
       "version_minor": 0
      },
      "text/plain": [
       "  0%|          | 0/1618 [00:00<?, ?it/s]"
      ]
     },
     "metadata": {},
     "output_type": "display_data"
    },
    {
     "name": "stderr",
     "output_type": "stream",
     "text": [
      "Token indices sequence length is longer than the specified maximum sequence length for this model (8383 > 1024). Running this sequence through the model will result in indexing errors\n"
     ]
    }
   ],
   "source": [
    "tabular_dataset = []\n",
    "# essentially flatmap\n",
    "with tqdm(range(sum(len(c['lectures']) for c in dataset))) as progress_bar:\n",
    "    for course in dataset:\n",
    "        for lecture in course['lectures']:\n",
    "            tabular_dataset.append({\n",
    "                'from_subset': course['from_subset'],\n",
    "                'course_title': course['title'],\n",
    "                'course_url': course['url'],\n",
    "                'lecture_title': lecture['title'],\n",
    "                'transcript': lecture['transcript'],\n",
    "                'transcript_length_characters': len(lecture['transcript']),\n",
    "                'transcript_length_tokens': len(tokenizer(lecture['transcript'])['input_ids']),\n",
    "                'description': lecture['description'],\n",
    "                'description_length_characters': len(lecture['description']),\n",
    "                'description_length_tokens': len(tokenizer(lecture['description'])['input_ids']),\n",
    "            })\n",
    "            progress_bar.update()"
   ]
  },
  {
   "cell_type": "code",
   "execution_count": 5,
   "id": "7050a9a8-495b-43c8-94db-be109a18ebbd",
   "metadata": {},
   "outputs": [
    {
     "data": {
      "text/html": [
       "<div>\n",
       "<style scoped>\n",
       "    .dataframe tbody tr th:only-of-type {\n",
       "        vertical-align: middle;\n",
       "    }\n",
       "\n",
       "    .dataframe tbody tr th {\n",
       "        vertical-align: top;\n",
       "    }\n",
       "\n",
       "    .dataframe thead th {\n",
       "        text-align: right;\n",
       "    }\n",
       "</style>\n",
       "<table border=\"1\" class=\"dataframe\">\n",
       "  <thead>\n",
       "    <tr style=\"text-align: right;\">\n",
       "      <th></th>\n",
       "      <th>from_subset</th>\n",
       "      <th>course_title</th>\n",
       "      <th>course_url</th>\n",
       "      <th>lecture_title</th>\n",
       "      <th>transcript</th>\n",
       "      <th>transcript_length_characters</th>\n",
       "      <th>transcript_length_tokens</th>\n",
       "      <th>description</th>\n",
       "      <th>description_length_characters</th>\n",
       "      <th>description_length_tokens</th>\n",
       "    </tr>\n",
       "  </thead>\n",
       "  <tbody>\n",
       "    <tr>\n",
       "      <th>0</th>\n",
       "      <td>mitocw</td>\n",
       "      <td>Real Analysis</td>\n",
       "      <td>https://ocw.mit.edu/courses/18-100a-real-analy...</td>\n",
       "      <td>LECTURE 1: SETS, SET OPERATIONS AND MATHEMATIC...</td>\n",
       "      <td>CASEY RODRIGUEZ: OK. So I have to admit this i...</td>\n",
       "      <td>34861</td>\n",
       "      <td>8383</td>\n",
       "      <td>An introduction to set theory and useful proof...</td>\n",
       "      <td>143</td>\n",
       "      <td>27</td>\n",
       "    </tr>\n",
       "    <tr>\n",
       "      <th>1</th>\n",
       "      <td>mitocw</td>\n",
       "      <td>Real Analysis</td>\n",
       "      <td>https://ocw.mit.edu/courses/18-100a-real-analy...</td>\n",
       "      <td>LECTURE 2: CANTOR'S THEORY OF CARDINALITY (SIZE)</td>\n",
       "      <td>CASEY RODRIGUEZ: So last time we spoke about- ...</td>\n",
       "      <td>38268</td>\n",
       "      <td>9529</td>\n",
       "      <td>What does it mean for one set to be bigger tha...</td>\n",
       "      <td>166</td>\n",
       "      <td>41</td>\n",
       "    </tr>\n",
       "    <tr>\n",
       "      <th>2</th>\n",
       "      <td>mitocw</td>\n",
       "      <td>Real Analysis</td>\n",
       "      <td>https://ocw.mit.edu/courses/18-100a-real-analy...</td>\n",
       "      <td>LECTURE 3: CANTOR'S REMARKABLE THEOREM AND THE...</td>\n",
       "      <td>CASEY RODRIGUEZ: So here we are again. So I'm ...</td>\n",
       "      <td>35264</td>\n",
       "      <td>8529</td>\n",
       "      <td>Finishing the lecture on Cantor’s notion of ca...</td>\n",
       "      <td>202</td>\n",
       "      <td>44</td>\n",
       "    </tr>\n",
       "    <tr>\n",
       "      <th>3</th>\n",
       "      <td>mitocw</td>\n",
       "      <td>Real Analysis</td>\n",
       "      <td>https://ocw.mit.edu/courses/18-100a-real-analy...</td>\n",
       "      <td>LECTURE 4: THE CHARACTERIZATION OF THE REAL NU...</td>\n",
       "      <td>CASEY RODRIGUEZ: OK, so let's finish the proof...</td>\n",
       "      <td>36843</td>\n",
       "      <td>8912</td>\n",
       "      <td>An introduction to properties of fields and or...</td>\n",
       "      <td>129</td>\n",
       "      <td>30</td>\n",
       "    </tr>\n",
       "    <tr>\n",
       "      <th>4</th>\n",
       "      <td>mitocw</td>\n",
       "      <td>Real Analysis</td>\n",
       "      <td>https://ocw.mit.edu/courses/18-100a-real-analy...</td>\n",
       "      <td>LECTURE 5: THE ARCHIMEDIAN PROPERTY, DENSITY O...</td>\n",
       "      <td>CASEY RODRIGUEZ: Last time, so we're talking a...</td>\n",
       "      <td>38707</td>\n",
       "      <td>9507</td>\n",
       "      <td>We show that the real numbers satisfy the Arch...</td>\n",
       "      <td>240</td>\n",
       "      <td>51</td>\n",
       "    </tr>\n",
       "    <tr>\n",
       "      <th>...</th>\n",
       "      <td>...</td>\n",
       "      <td>...</td>\n",
       "      <td>...</td>\n",
       "      <td>...</td>\n",
       "      <td>...</td>\n",
       "      <td>...</td>\n",
       "      <td>...</td>\n",
       "      <td>...</td>\n",
       "      <td>...</td>\n",
       "      <td>...</td>\n",
       "    </tr>\n",
       "    <tr>\n",
       "      <th>1613</th>\n",
       "      <td>yale</td>\n",
       "      <td>Fundamentals of Physics with Ramamurti Shankar</td>\n",
       "      <td>https://www.youtube.com/playlist?list=PLFE3074...</td>\n",
       "      <td>20. Fluid Dynamics and Statics and Bernoulli's...</td>\n",
       "      <td>Professor Ramamurti Shankar: This is a relativ...</td>\n",
       "      <td>60571</td>\n",
       "      <td>14732</td>\n",
       "      <td>The focus of the lecture is on fluid dynamics ...</td>\n",
       "      <td>263</td>\n",
       "      <td>55</td>\n",
       "    </tr>\n",
       "    <tr>\n",
       "      <th>1614</th>\n",
       "      <td>yale</td>\n",
       "      <td>Fundamentals of Physics with Ramamurti Shankar</td>\n",
       "      <td>https://www.youtube.com/playlist?list=PLFE3074...</td>\n",
       "      <td>21. Thermodynamics</td>\n",
       "      <td>Professor Ramamurti Shankar: Alright class, we...</td>\n",
       "      <td>64333</td>\n",
       "      <td>14719</td>\n",
       "      <td>This is the first of a series of lectures on t...</td>\n",
       "      <td>489</td>\n",
       "      <td>101</td>\n",
       "    </tr>\n",
       "    <tr>\n",
       "      <th>1615</th>\n",
       "      <td>yale</td>\n",
       "      <td>Fundamentals of Physics with Ramamurti Shankar</td>\n",
       "      <td>https://www.youtube.com/playlist?list=PLFE3074...</td>\n",
       "      <td>22. The Boltzmann Constant and First Law of Th...</td>\n",
       "      <td>So, I had to leave you in the middle of someth...</td>\n",
       "      <td>64480</td>\n",
       "      <td>15115</td>\n",
       "      <td>This lecture continues the topic of thermodyna...</td>\n",
       "      <td>268</td>\n",
       "      <td>53</td>\n",
       "    </tr>\n",
       "    <tr>\n",
       "      <th>1616</th>\n",
       "      <td>yale</td>\n",
       "      <td>Fundamentals of Physics with Ramamurti Shankar</td>\n",
       "      <td>https://www.youtube.com/playlist?list=PLFE3074...</td>\n",
       "      <td>23. The Second Law of Thermodynamics and Carno...</td>\n",
       "      <td>Professor Ramamurti Shankar: What I did yester...</td>\n",
       "      <td>55343</td>\n",
       "      <td>13676</td>\n",
       "      <td>Why does a dropped egg that spatters on the fl...</td>\n",
       "      <td>419</td>\n",
       "      <td>86</td>\n",
       "    </tr>\n",
       "    <tr>\n",
       "      <th>1617</th>\n",
       "      <td>yale</td>\n",
       "      <td>Fundamentals of Physics with Ramamurti Shankar</td>\n",
       "      <td>https://www.youtube.com/playlist?list=PLFE3074...</td>\n",
       "      <td>24. The Second Law of Thermodynamics (cont.) a...</td>\n",
       "      <td>Okay, what I did last time was describe to you...</td>\n",
       "      <td>58133</td>\n",
       "      <td>13821</td>\n",
       "      <td>The focus of the lecture is the concept of ent...</td>\n",
       "      <td>243</td>\n",
       "      <td>47</td>\n",
       "    </tr>\n",
       "  </tbody>\n",
       "</table>\n",
       "<p>1618 rows × 10 columns</p>\n",
       "</div>"
      ],
      "text/plain": [
       "     from_subset                                    course_title  \\\n",
       "0         mitocw                                   Real Analysis   \n",
       "1         mitocw                                   Real Analysis   \n",
       "2         mitocw                                   Real Analysis   \n",
       "3         mitocw                                   Real Analysis   \n",
       "4         mitocw                                   Real Analysis   \n",
       "...          ...                                             ...   \n",
       "1613        yale  Fundamentals of Physics with Ramamurti Shankar   \n",
       "1614        yale  Fundamentals of Physics with Ramamurti Shankar   \n",
       "1615        yale  Fundamentals of Physics with Ramamurti Shankar   \n",
       "1616        yale  Fundamentals of Physics with Ramamurti Shankar   \n",
       "1617        yale  Fundamentals of Physics with Ramamurti Shankar   \n",
       "\n",
       "                                             course_url  \\\n",
       "0     https://ocw.mit.edu/courses/18-100a-real-analy...   \n",
       "1     https://ocw.mit.edu/courses/18-100a-real-analy...   \n",
       "2     https://ocw.mit.edu/courses/18-100a-real-analy...   \n",
       "3     https://ocw.mit.edu/courses/18-100a-real-analy...   \n",
       "4     https://ocw.mit.edu/courses/18-100a-real-analy...   \n",
       "...                                                 ...   \n",
       "1613  https://www.youtube.com/playlist?list=PLFE3074...   \n",
       "1614  https://www.youtube.com/playlist?list=PLFE3074...   \n",
       "1615  https://www.youtube.com/playlist?list=PLFE3074...   \n",
       "1616  https://www.youtube.com/playlist?list=PLFE3074...   \n",
       "1617  https://www.youtube.com/playlist?list=PLFE3074...   \n",
       "\n",
       "                                          lecture_title  \\\n",
       "0     LECTURE 1: SETS, SET OPERATIONS AND MATHEMATIC...   \n",
       "1      LECTURE 2: CANTOR'S THEORY OF CARDINALITY (SIZE)   \n",
       "2     LECTURE 3: CANTOR'S REMARKABLE THEOREM AND THE...   \n",
       "3     LECTURE 4: THE CHARACTERIZATION OF THE REAL NU...   \n",
       "4     LECTURE 5: THE ARCHIMEDIAN PROPERTY, DENSITY O...   \n",
       "...                                                 ...   \n",
       "1613  20. Fluid Dynamics and Statics and Bernoulli's...   \n",
       "1614                                 21. Thermodynamics   \n",
       "1615  22. The Boltzmann Constant and First Law of Th...   \n",
       "1616  23. The Second Law of Thermodynamics and Carno...   \n",
       "1617  24. The Second Law of Thermodynamics (cont.) a...   \n",
       "\n",
       "                                             transcript  \\\n",
       "0     CASEY RODRIGUEZ: OK. So I have to admit this i...   \n",
       "1     CASEY RODRIGUEZ: So last time we spoke about- ...   \n",
       "2     CASEY RODRIGUEZ: So here we are again. So I'm ...   \n",
       "3     CASEY RODRIGUEZ: OK, so let's finish the proof...   \n",
       "4     CASEY RODRIGUEZ: Last time, so we're talking a...   \n",
       "...                                                 ...   \n",
       "1613  Professor Ramamurti Shankar: This is a relativ...   \n",
       "1614  Professor Ramamurti Shankar: Alright class, we...   \n",
       "1615  So, I had to leave you in the middle of someth...   \n",
       "1616  Professor Ramamurti Shankar: What I did yester...   \n",
       "1617  Okay, what I did last time was describe to you...   \n",
       "\n",
       "      transcript_length_characters  transcript_length_tokens  \\\n",
       "0                            34861                      8383   \n",
       "1                            38268                      9529   \n",
       "2                            35264                      8529   \n",
       "3                            36843                      8912   \n",
       "4                            38707                      9507   \n",
       "...                            ...                       ...   \n",
       "1613                         60571                     14732   \n",
       "1614                         64333                     14719   \n",
       "1615                         64480                     15115   \n",
       "1616                         55343                     13676   \n",
       "1617                         58133                     13821   \n",
       "\n",
       "                                            description  \\\n",
       "0     An introduction to set theory and useful proof...   \n",
       "1     What does it mean for one set to be bigger tha...   \n",
       "2     Finishing the lecture on Cantor’s notion of ca...   \n",
       "3     An introduction to properties of fields and or...   \n",
       "4     We show that the real numbers satisfy the Arch...   \n",
       "...                                                 ...   \n",
       "1613  The focus of the lecture is on fluid dynamics ...   \n",
       "1614  This is the first of a series of lectures on t...   \n",
       "1615  This lecture continues the topic of thermodyna...   \n",
       "1616  Why does a dropped egg that spatters on the fl...   \n",
       "1617  The focus of the lecture is the concept of ent...   \n",
       "\n",
       "      description_length_characters  description_length_tokens  \n",
       "0                               143                         27  \n",
       "1                               166                         41  \n",
       "2                               202                         44  \n",
       "3                               129                         30  \n",
       "4                               240                         51  \n",
       "...                             ...                        ...  \n",
       "1613                            263                         55  \n",
       "1614                            489                        101  \n",
       "1615                            268                         53  \n",
       "1616                            419                         86  \n",
       "1617                            243                         47  \n",
       "\n",
       "[1618 rows x 10 columns]"
      ]
     },
     "execution_count": 5,
     "metadata": {},
     "output_type": "execute_result"
    }
   ],
   "source": [
    "df = pd.DataFrame(tabular_dataset)\n",
    "df"
   ]
  },
  {
   "cell_type": "code",
   "execution_count": 6,
   "id": "b65cf02a-591a-45f5-88ac-5a0ecdfa7802",
   "metadata": {},
   "outputs": [
    {
     "data": {
      "text/plain": [
       "from_subset                      object\n",
       "course_title                     object\n",
       "course_url                       object\n",
       "lecture_title                    object\n",
       "transcript                       object\n",
       "transcript_length_characters      int64\n",
       "transcript_length_tokens          int64\n",
       "description                      object\n",
       "description_length_characters     int64\n",
       "description_length_tokens         int64\n",
       "dtype: object"
      ]
     },
     "execution_count": 6,
     "metadata": {},
     "output_type": "execute_result"
    }
   ],
   "source": [
    "df.dtypes"
   ]
  },
  {
   "cell_type": "code",
   "execution_count": 7,
   "id": "8220bacb-a0cc-47cc-b9b2-26e661e03e2e",
   "metadata": {},
   "outputs": [
    {
     "data": {
      "text/plain": [
       "yale      895\n",
       "mitocw    723\n",
       "Name: from_subset, dtype: int64"
      ]
     },
     "execution_count": 7,
     "metadata": {},
     "output_type": "execute_result"
    }
   ],
   "source": [
    "df['from_subset'].value_counts()"
   ]
  },
  {
   "cell_type": "code",
   "execution_count": 8,
   "id": "dc655c5b-7248-4247-9dde-5f0a3a44d586",
   "metadata": {},
   "outputs": [
    {
     "data": {
      "text/html": [
       "<div>\n",
       "<style scoped>\n",
       "    .dataframe tbody tr th:only-of-type {\n",
       "        vertical-align: middle;\n",
       "    }\n",
       "\n",
       "    .dataframe tbody tr th {\n",
       "        vertical-align: top;\n",
       "    }\n",
       "\n",
       "    .dataframe thead th {\n",
       "        text-align: right;\n",
       "    }\n",
       "</style>\n",
       "<table border=\"1\" class=\"dataframe\">\n",
       "  <thead>\n",
       "    <tr style=\"text-align: right;\">\n",
       "      <th></th>\n",
       "      <th>from_subset</th>\n",
       "      <th>course_title</th>\n",
       "      <th>course_url</th>\n",
       "      <th>lecture_title</th>\n",
       "      <th>transcript</th>\n",
       "      <th>description</th>\n",
       "    </tr>\n",
       "  </thead>\n",
       "  <tbody>\n",
       "    <tr>\n",
       "      <th>count</th>\n",
       "      <td>1618</td>\n",
       "      <td>1618</td>\n",
       "      <td>1618</td>\n",
       "      <td>1618</td>\n",
       "      <td>1618</td>\n",
       "      <td>1618</td>\n",
       "    </tr>\n",
       "    <tr>\n",
       "      <th>unique</th>\n",
       "      <td>2</td>\n",
       "      <td>67</td>\n",
       "      <td>67</td>\n",
       "      <td>1606</td>\n",
       "      <td>1617</td>\n",
       "      <td>1608</td>\n",
       "    </tr>\n",
       "    <tr>\n",
       "      <th>top</th>\n",
       "      <td>yale</td>\n",
       "      <td>Brains, Minds and Machines Summer Course</td>\n",
       "      <td>https://ocw.mit.edu/courses/res-9-003-brains-m...</td>\n",
       "      <td>1. Introduction</td>\n",
       "      <td>WAI CHEE DIMOCK: So just want to go back very ...</td>\n",
       "      <td>Machine learning methods used in intelligence ...</td>\n",
       "    </tr>\n",
       "    <tr>\n",
       "      <th>freq</th>\n",
       "      <td>895</td>\n",
       "      <td>58</td>\n",
       "      <td>58</td>\n",
       "      <td>12</td>\n",
       "      <td>2</td>\n",
       "      <td>3</td>\n",
       "    </tr>\n",
       "  </tbody>\n",
       "</table>\n",
       "</div>"
      ],
      "text/plain": [
       "       from_subset                              course_title  \\\n",
       "count         1618                                      1618   \n",
       "unique           2                                        67   \n",
       "top           yale  Brains, Minds and Machines Summer Course   \n",
       "freq           895                                        58   \n",
       "\n",
       "                                               course_url    lecture_title  \\\n",
       "count                                                1618             1618   \n",
       "unique                                                 67             1606   \n",
       "top     https://ocw.mit.edu/courses/res-9-003-brains-m...  1. Introduction   \n",
       "freq                                                   58               12   \n",
       "\n",
       "                                               transcript  \\\n",
       "count                                                1618   \n",
       "unique                                               1617   \n",
       "top     WAI CHEE DIMOCK: So just want to go back very ...   \n",
       "freq                                                    2   \n",
       "\n",
       "                                              description  \n",
       "count                                                1618  \n",
       "unique                                               1608  \n",
       "top     Machine learning methods used in intelligence ...  \n",
       "freq                                                    3  "
      ]
     },
     "execution_count": 8,
     "metadata": {},
     "output_type": "execute_result"
    }
   ],
   "source": [
    "df[['from_subset', 'course_title', 'course_url', 'lecture_title', 'transcript', 'description']].describe()"
   ]
  },
  {
   "cell_type": "code",
   "execution_count": 9,
   "id": "fe578957-7bc0-4a09-b044-f036ddc1524e",
   "metadata": {},
   "outputs": [
    {
     "name": "stdout",
     "output_type": "stream",
     "text": [
      "<class 'pandas.core.frame.DataFrame'>\n",
      "RangeIndex: 1618 entries, 0 to 1617\n",
      "Data columns (total 10 columns):\n",
      " #   Column                         Non-Null Count  Dtype \n",
      "---  ------                         --------------  ----- \n",
      " 0   from_subset                    1618 non-null   object\n",
      " 1   course_title                   1618 non-null   object\n",
      " 2   course_url                     1618 non-null   object\n",
      " 3   lecture_title                  1618 non-null   object\n",
      " 4   transcript                     1618 non-null   object\n",
      " 5   transcript_length_characters   1618 non-null   int64 \n",
      " 6   transcript_length_tokens       1618 non-null   int64 \n",
      " 7   description                    1618 non-null   object\n",
      " 8   description_length_characters  1618 non-null   int64 \n",
      " 9   description_length_tokens      1618 non-null   int64 \n",
      "dtypes: int64(4), object(6)\n",
      "memory usage: 126.5+ KB\n"
     ]
    }
   ],
   "source": [
    "df.info()"
   ]
  },
  {
   "cell_type": "markdown",
   "id": "dafe9e1d-4119-4820-acaa-c038c66062b7",
   "metadata": {
    "tags": []
   },
   "source": [
    "### Filter transcripts with length < 500 characters\n",
    "500 is chosen arbitrarily as a small minimum threshold a transcript should pass. This is to filter very short transcripts, which cannot belong to a video lecture. We can see from the transcript lengths percentiles table below that the large majority of transcripts is longer than this threshold."
   ]
  },
  {
   "cell_type": "code",
   "execution_count": 10,
   "id": "cd3bdb25-3dfb-4e56-b9e7-3cc3a36dd8fd",
   "metadata": {},
   "outputs": [
    {
     "name": "stdout",
     "output_type": "stream",
     "text": [
      "Removed 0 short transcripts.\n"
     ]
    }
   ],
   "source": [
    "_df_len_before = len(df)\n",
    "df = df[df['transcript_length_characters'] > 500].copy()\n",
    "_df_len_after = len(df)\n",
    "print(f\"Removed {_df_len_before - _df_len_after} short transcripts.\")"
   ]
  },
  {
   "cell_type": "markdown",
   "id": "2eae6dab-305c-476c-8d03-e4fcab903f47",
   "metadata": {},
   "source": [
    "### Remove duplicate transcripts"
   ]
  },
  {
   "cell_type": "code",
   "execution_count": 11,
   "id": "7496b694-ebf2-4bf0-9299-344fb9bd6310",
   "metadata": {},
   "outputs": [
    {
     "name": "stdout",
     "output_type": "stream",
     "text": [
      "Removed 1 duplicate transcripts.\n"
     ]
    }
   ],
   "source": [
    "_df_len_before = len(df)\n",
    "df.drop_duplicates(subset=['transcript'], keep=\"first\", inplace=True)\n",
    "_df_len_after = len(df)\n",
    "print(f\"Removed {_df_len_before - _df_len_after} duplicate transcripts.\")"
   ]
  },
  {
   "cell_type": "markdown",
   "id": "56cd3a47-5a98-452c-85ee-6c71a05f9b87",
   "metadata": {},
   "source": [
    "### Remove duplicate descriptions"
   ]
  },
  {
   "cell_type": "code",
   "execution_count": 12,
   "id": "52bdd11e-73f4-4dfd-b7f0-74b2b7599fd0",
   "metadata": {},
   "outputs": [
    {
     "name": "stdout",
     "output_type": "stream",
     "text": [
      "Removed 10 duplicate descriptions.\n"
     ]
    }
   ],
   "source": [
    "_df_len_before = len(df)\n",
    "df.drop_duplicates(subset=['description'], keep=\"first\", inplace=True)\n",
    "_df_len_after = len(df)\n",
    "print(f\"Removed {_df_len_before - _df_len_after} duplicate descriptions.\")"
   ]
  },
  {
   "cell_type": "code",
   "execution_count": 13,
   "id": "9011ba5e-09d3-4490-a41a-dcf4895237a0",
   "metadata": {},
   "outputs": [
    {
     "data": {
      "text/html": [
       "<div>\n",
       "<style scoped>\n",
       "    .dataframe tbody tr th:only-of-type {\n",
       "        vertical-align: middle;\n",
       "    }\n",
       "\n",
       "    .dataframe tbody tr th {\n",
       "        vertical-align: top;\n",
       "    }\n",
       "\n",
       "    .dataframe thead th {\n",
       "        text-align: right;\n",
       "    }\n",
       "</style>\n",
       "<table border=\"1\" class=\"dataframe\">\n",
       "  <thead>\n",
       "    <tr style=\"text-align: right;\">\n",
       "      <th></th>\n",
       "      <th>from_subset</th>\n",
       "      <th>course_title</th>\n",
       "      <th>course_url</th>\n",
       "      <th>lecture_title</th>\n",
       "      <th>transcript</th>\n",
       "      <th>description</th>\n",
       "    </tr>\n",
       "  </thead>\n",
       "  <tbody>\n",
       "    <tr>\n",
       "      <th>count</th>\n",
       "      <td>1607</td>\n",
       "      <td>1607</td>\n",
       "      <td>1607</td>\n",
       "      <td>1607</td>\n",
       "      <td>1607</td>\n",
       "      <td>1607</td>\n",
       "    </tr>\n",
       "    <tr>\n",
       "      <th>unique</th>\n",
       "      <td>2</td>\n",
       "      <td>67</td>\n",
       "      <td>67</td>\n",
       "      <td>1595</td>\n",
       "      <td>1607</td>\n",
       "      <td>1607</td>\n",
       "    </tr>\n",
       "    <tr>\n",
       "      <th>top</th>\n",
       "      <td>yale</td>\n",
       "      <td>Brains, Minds and Machines Summer Course</td>\n",
       "      <td>https://ocw.mit.edu/courses/res-9-003-brains-m...</td>\n",
       "      <td>1. Introduction</td>\n",
       "      <td>CASEY RODRIGUEZ: OK. So I have to admit this i...</td>\n",
       "      <td>An introduction to set theory and useful proof...</td>\n",
       "    </tr>\n",
       "    <tr>\n",
       "      <th>freq</th>\n",
       "      <td>893</td>\n",
       "      <td>49</td>\n",
       "      <td>49</td>\n",
       "      <td>12</td>\n",
       "      <td>1</td>\n",
       "      <td>1</td>\n",
       "    </tr>\n",
       "  </tbody>\n",
       "</table>\n",
       "</div>"
      ],
      "text/plain": [
       "       from_subset                              course_title  \\\n",
       "count         1607                                      1607   \n",
       "unique           2                                        67   \n",
       "top           yale  Brains, Minds and Machines Summer Course   \n",
       "freq           893                                        49   \n",
       "\n",
       "                                               course_url    lecture_title  \\\n",
       "count                                                1607             1607   \n",
       "unique                                                 67             1595   \n",
       "top     https://ocw.mit.edu/courses/res-9-003-brains-m...  1. Introduction   \n",
       "freq                                                   49               12   \n",
       "\n",
       "                                               transcript  \\\n",
       "count                                                1607   \n",
       "unique                                               1607   \n",
       "top     CASEY RODRIGUEZ: OK. So I have to admit this i...   \n",
       "freq                                                    1   \n",
       "\n",
       "                                              description  \n",
       "count                                                1607  \n",
       "unique                                               1607  \n",
       "top     An introduction to set theory and useful proof...  \n",
       "freq                                                    1  "
      ]
     },
     "execution_count": 13,
     "metadata": {},
     "output_type": "execute_result"
    }
   ],
   "source": [
    "df[['from_subset', 'course_title', 'course_url', 'lecture_title', 'transcript', 'description']].describe()"
   ]
  },
  {
   "cell_type": "code",
   "execution_count": 14,
   "id": "b2d9ef91-f4bd-4083-ba67-69c0389c3992",
   "metadata": {},
   "outputs": [
    {
     "data": {
      "text/plain": [
       "yale      893\n",
       "mitocw    714\n",
       "Name: from_subset, dtype: int64"
      ]
     },
     "execution_count": 14,
     "metadata": {},
     "output_type": "execute_result"
    }
   ],
   "source": [
    "df['from_subset'].value_counts()"
   ]
  },
  {
   "cell_type": "markdown",
   "id": "9b18bc12-ff97-4894-8df4-1dc6442fe60c",
   "metadata": {
    "tags": []
   },
   "source": [
    "### Transcript lengths distribution"
   ]
  },
  {
   "cell_type": "code",
   "execution_count": 15,
   "id": "0038a536-6f4b-440e-b8eb-7f3d5edb6791",
   "metadata": {},
   "outputs": [
    {
     "data": {
      "text/html": [
       "<div>\n",
       "<style scoped>\n",
       "    .dataframe tbody tr th:only-of-type {\n",
       "        vertical-align: middle;\n",
       "    }\n",
       "\n",
       "    .dataframe tbody tr th {\n",
       "        vertical-align: top;\n",
       "    }\n",
       "\n",
       "    .dataframe thead th {\n",
       "        text-align: right;\n",
       "    }\n",
       "</style>\n",
       "<table border=\"1\" class=\"dataframe\">\n",
       "  <thead>\n",
       "    <tr style=\"text-align: right;\">\n",
       "      <th></th>\n",
       "      <th>transcript_length_characters</th>\n",
       "      <th>transcript_length_tokens</th>\n",
       "    </tr>\n",
       "  </thead>\n",
       "  <tbody>\n",
       "    <tr>\n",
       "      <th>count</th>\n",
       "      <td>1607.000000</td>\n",
       "      <td>1607.000000</td>\n",
       "    </tr>\n",
       "    <tr>\n",
       "      <th>mean</th>\n",
       "      <td>43542.171126</td>\n",
       "      <td>9785.672682</td>\n",
       "    </tr>\n",
       "    <tr>\n",
       "      <th>std</th>\n",
       "      <td>13846.752761</td>\n",
       "      <td>3147.946764</td>\n",
       "    </tr>\n",
       "    <tr>\n",
       "      <th>min</th>\n",
       "      <td>2227.000000</td>\n",
       "      <td>472.000000</td>\n",
       "    </tr>\n",
       "    <tr>\n",
       "      <th>25%</th>\n",
       "      <td>33917.500000</td>\n",
       "      <td>7585.500000</td>\n",
       "    </tr>\n",
       "    <tr>\n",
       "      <th>50%</th>\n",
       "      <td>40452.000000</td>\n",
       "      <td>9001.000000</td>\n",
       "    </tr>\n",
       "    <tr>\n",
       "      <th>75%</th>\n",
       "      <td>54598.000000</td>\n",
       "      <td>12222.000000</td>\n",
       "    </tr>\n",
       "    <tr>\n",
       "      <th>90%</th>\n",
       "      <td>62484.200000</td>\n",
       "      <td>14310.800000</td>\n",
       "    </tr>\n",
       "    <tr>\n",
       "      <th>95%</th>\n",
       "      <td>67501.300000</td>\n",
       "      <td>15158.100000</td>\n",
       "    </tr>\n",
       "    <tr>\n",
       "      <th>97.9%</th>\n",
       "      <td>72737.358000</td>\n",
       "      <td>16221.892000</td>\n",
       "    </tr>\n",
       "    <tr>\n",
       "      <th>99%</th>\n",
       "      <td>76699.880000</td>\n",
       "      <td>17066.720000</td>\n",
       "    </tr>\n",
       "    <tr>\n",
       "      <th>max</th>\n",
       "      <td>89221.000000</td>\n",
       "      <td>19603.000000</td>\n",
       "    </tr>\n",
       "  </tbody>\n",
       "</table>\n",
       "</div>"
      ],
      "text/plain": [
       "       transcript_length_characters  transcript_length_tokens\n",
       "count                   1607.000000               1607.000000\n",
       "mean                   43542.171126               9785.672682\n",
       "std                    13846.752761               3147.946764\n",
       "min                     2227.000000                472.000000\n",
       "25%                    33917.500000               7585.500000\n",
       "50%                    40452.000000               9001.000000\n",
       "75%                    54598.000000              12222.000000\n",
       "90%                    62484.200000              14310.800000\n",
       "95%                    67501.300000              15158.100000\n",
       "97.9%                  72737.358000              16221.892000\n",
       "99%                    76699.880000              17066.720000\n",
       "max                    89221.000000              19603.000000"
      ]
     },
     "execution_count": 15,
     "metadata": {},
     "output_type": "execute_result"
    }
   ],
   "source": [
    "df[['transcript_length_characters', 'transcript_length_tokens']].describe(percentiles=[0.25, 0.50, 0.75, 0.90, 0.95, 0.979, 0.99])"
   ]
  },
  {
   "cell_type": "markdown",
   "id": "94183ec8-4ef0-4232-bc38-034d993004f3",
   "metadata": {},
   "source": [
    "As we can see from the table above, **97.9% of transcripts are within LED's 16384 maximum token length**."
   ]
  },
  {
   "cell_type": "code",
   "execution_count": 16,
   "id": "99942923-92af-4888-b5f7-9205acf924d4",
   "metadata": {},
   "outputs": [],
   "source": [
    "sns.set(rc={\"figure.figsize\": (16, 9)})  # change seaborn plot size"
   ]
  },
  {
   "cell_type": "code",
   "execution_count": 17,
   "id": "d99375b7-5a79-4280-b623-b196a964f23a",
   "metadata": {},
   "outputs": [
    {
     "data": {
      "text/plain": [
       "<AxesSubplot: xlabel='transcript_length_characters', ylabel='Count'>"
      ]
     },
     "execution_count": 17,
     "metadata": {},
     "output_type": "execute_result"
    },
    {
     "data": {
      "image/png": "[encoded data removed]",
      "text/plain": [
       "<Figure size 1600x900 with 1 Axes>"
      ]
     },
     "metadata": {},
     "output_type": "display_data"
    }
   ],
   "source": [
    "sns.histplot(df['transcript_length_characters'])"
   ]
  },
  {
   "cell_type": "code",
   "execution_count": 18,
   "id": "c08d6cfe-f85d-46e1-b2cb-fadd0648cf5e",
   "metadata": {},
   "outputs": [
    {
     "data": {
      "text/plain": [
       "<AxesSubplot: xlabel='transcript_length_tokens', ylabel='Count'>"
      ]
     },
     "execution_count": 18,
     "metadata": {},
     "output_type": "execute_result"
    },
    {
     "data": {
      "image/png": "[encoded data removed]",
      "text/plain": [
       "<Figure size 1600x900 with 1 Axes>"
      ]
     },
     "metadata": {},
     "output_type": "display_data"
    }
   ],
   "source": [
    "sns.histplot(df['transcript_length_tokens'])"
   ]
  },
  {
   "cell_type": "markdown",
   "id": "fc328a8a-7274-4f8e-acee-691c7ac3481f",
   "metadata": {
    "tags": []
   },
   "source": [
    "### Description lengths distribution"
   ]
  },
  {
   "cell_type": "code",
   "execution_count": 19,
   "id": "36e1b2d7-fd21-4a6b-818a-aa9634099248",
   "metadata": {},
   "outputs": [
    {
     "data": {
      "text/html": [
       "<div>\n",
       "<style scoped>\n",
       "    .dataframe tbody tr th:only-of-type {\n",
       "        vertical-align: middle;\n",
       "    }\n",
       "\n",
       "    .dataframe tbody tr th {\n",
       "        vertical-align: top;\n",
       "    }\n",
       "\n",
       "    .dataframe thead th {\n",
       "        text-align: right;\n",
       "    }\n",
       "</style>\n",
       "<table border=\"1\" class=\"dataframe\">\n",
       "  <thead>\n",
       "    <tr style=\"text-align: right;\">\n",
       "      <th></th>\n",
       "      <th>description_length_characters</th>\n",
       "      <th>description_length_tokens</th>\n",
       "    </tr>\n",
       "  </thead>\n",
       "  <tbody>\n",
       "    <tr>\n",
       "      <th>count</th>\n",
       "      <td>1607.000000</td>\n",
       "      <td>1607.000000</td>\n",
       "    </tr>\n",
       "    <tr>\n",
       "      <th>mean</th>\n",
       "      <td>516.731798</td>\n",
       "      <td>103.245800</td>\n",
       "    </tr>\n",
       "    <tr>\n",
       "      <th>std</th>\n",
       "      <td>322.488151</td>\n",
       "      <td>63.388157</td>\n",
       "    </tr>\n",
       "    <tr>\n",
       "      <th>min</th>\n",
       "      <td>21.000000</td>\n",
       "      <td>6.000000</td>\n",
       "    </tr>\n",
       "    <tr>\n",
       "      <th>25%</th>\n",
       "      <td>242.500000</td>\n",
       "      <td>49.000000</td>\n",
       "    </tr>\n",
       "    <tr>\n",
       "      <th>50%</th>\n",
       "      <td>455.000000</td>\n",
       "      <td>91.000000</td>\n",
       "    </tr>\n",
       "    <tr>\n",
       "      <th>75%</th>\n",
       "      <td>723.000000</td>\n",
       "      <td>142.000000</td>\n",
       "    </tr>\n",
       "    <tr>\n",
       "      <th>90%</th>\n",
       "      <td>974.200000</td>\n",
       "      <td>191.400000</td>\n",
       "    </tr>\n",
       "    <tr>\n",
       "      <th>95%</th>\n",
       "      <td>1139.700000</td>\n",
       "      <td>231.000000</td>\n",
       "    </tr>\n",
       "    <tr>\n",
       "      <th>99%</th>\n",
       "      <td>1378.900000</td>\n",
       "      <td>280.880000</td>\n",
       "    </tr>\n",
       "    <tr>\n",
       "      <th>max</th>\n",
       "      <td>2202.000000</td>\n",
       "      <td>375.000000</td>\n",
       "    </tr>\n",
       "  </tbody>\n",
       "</table>\n",
       "</div>"
      ],
      "text/plain": [
       "       description_length_characters  description_length_tokens\n",
       "count                    1607.000000                1607.000000\n",
       "mean                      516.731798                 103.245800\n",
       "std                       322.488151                  63.388157\n",
       "min                        21.000000                   6.000000\n",
       "25%                       242.500000                  49.000000\n",
       "50%                       455.000000                  91.000000\n",
       "75%                       723.000000                 142.000000\n",
       "90%                       974.200000                 191.400000\n",
       "95%                      1139.700000                 231.000000\n",
       "99%                      1378.900000                 280.880000\n",
       "max                      2202.000000                 375.000000"
      ]
     },
     "execution_count": 19,
     "metadata": {},
     "output_type": "execute_result"
    }
   ],
   "source": [
    "df[['description_length_characters', 'description_length_tokens']].describe(percentiles=[0.25, 0.50, 0.75, 0.90, 0.95, 0.99])"
   ]
  },
  {
   "cell_type": "markdown",
   "id": "2e2ce0cf-1dad-4695-a8f9-48e2fefb6a22",
   "metadata": {},
   "source": [
    "All description lengths are within 384 (or, to use a power of 2, within 512)."
   ]
  },
  {
   "cell_type": "code",
   "execution_count": 20,
   "id": "59013158-2541-40c5-ac30-39ca1ee839ee",
   "metadata": {},
   "outputs": [
    {
     "data": {
      "text/plain": [
       "<AxesSubplot: xlabel='description_length_characters', ylabel='Count'>"
      ]
     },
     "execution_count": 20,
     "metadata": {},
     "output_type": "execute_result"
    },
    {
     "data": {
      "image/png": "[encoded data removed]",
      "text/plain": [
       "<Figure size 1600x900 with 1 Axes>"
      ]
     },
     "metadata": {},
     "output_type": "display_data"
    }
   ],
   "source": [
    "sns.histplot(df['description_length_characters'])"
   ]
  },
  {
   "cell_type": "code",
   "execution_count": 21,
   "id": "f089450b-5e8b-43e1-be42-52406543c22b",
   "metadata": {},
   "outputs": [
    {
     "data": {
      "text/plain": [
       "<AxesSubplot: xlabel='description_length_tokens', ylabel='Count'>"
      ]
     },
     "execution_count": 21,
     "metadata": {},
     "output_type": "execute_result"
    },
    {
     "data": {
      "image/png": "[encoded data removed]",
      "text/plain": [
       "<Figure size 1600x900 with 1 Axes>"
      ]
     },
     "metadata": {},
     "output_type": "display_data"
    }
   ],
   "source": [
    "sns.histplot(df['description_length_tokens'])"
   ]
  },
  {
   "cell_type": "markdown",
   "id": "f44ba1c6-1756-4901-897b-7a3cb57e91b7",
   "metadata": {},
   "source": [
    "### Save space\n",
    "1. keep only \"transcript\" and \"description\" columns\n",
    "2. rename them to \"text\" and \"target\""
   ]
  },
  {
   "cell_type": "code",
   "execution_count": 22,
   "id": "2120298a-6d2c-4ea1-9d20-d55947ba8217",
   "metadata": {},
   "outputs": [],
   "source": [
    "df = df[['transcript', 'description']].copy()"
   ]
  },
  {
   "cell_type": "code",
   "execution_count": 23,
   "id": "4f39b147-3dcc-4254-871f-96a45829ccf1",
   "metadata": {},
   "outputs": [],
   "source": [
    "df.rename(columns={'transcript': 'text', 'description': 'target'}, inplace=True)"
   ]
  },
  {
   "cell_type": "code",
   "execution_count": 24,
   "id": "fea7015e-9606-412f-b24c-41016eee673c",
   "metadata": {},
   "outputs": [
    {
     "data": {
      "text/html": [
       "<div>\n",
       "<style scoped>\n",
       "    .dataframe tbody tr th:only-of-type {\n",
       "        vertical-align: middle;\n",
       "    }\n",
       "\n",
       "    .dataframe tbody tr th {\n",
       "        vertical-align: top;\n",
       "    }\n",
       "\n",
       "    .dataframe thead th {\n",
       "        text-align: right;\n",
       "    }\n",
       "</style>\n",
       "<table border=\"1\" class=\"dataframe\">\n",
       "  <thead>\n",
       "    <tr style=\"text-align: right;\">\n",
       "      <th></th>\n",
       "      <th>text</th>\n",
       "      <th>target</th>\n",
       "    </tr>\n",
       "  </thead>\n",
       "  <tbody>\n",
       "    <tr>\n",
       "      <th>0</th>\n",
       "      <td>CASEY RODRIGUEZ: OK. So I have to admit this i...</td>\n",
       "      <td>An introduction to set theory and useful proof...</td>\n",
       "    </tr>\n",
       "    <tr>\n",
       "      <th>1</th>\n",
       "      <td>CASEY RODRIGUEZ: So last time we spoke about- ...</td>\n",
       "      <td>What does it mean for one set to be bigger tha...</td>\n",
       "    </tr>\n",
       "  </tbody>\n",
       "</table>\n",
       "</div>"
      ],
      "text/plain": [
       "                                                text  \\\n",
       "0  CASEY RODRIGUEZ: OK. So I have to admit this i...   \n",
       "1  CASEY RODRIGUEZ: So last time we spoke about- ...   \n",
       "\n",
       "                                              target  \n",
       "0  An introduction to set theory and useful proof...  \n",
       "1  What does it mean for one set to be bigger tha...  "
      ]
     },
     "execution_count": 24,
     "metadata": {},
     "output_type": "execute_result"
    }
   ],
   "source": [
    "df.head(2)"
   ]
  },
  {
   "cell_type": "markdown",
   "id": "7c79c96d-40e5-4d6c-8e84-428e69754da0",
   "metadata": {},
   "source": [
    "### Split dataset into train, dev, test"
   ]
  },
  {
   "cell_type": "code",
   "execution_count": 25,
   "id": "dd32ff22-be44-454d-969c-71befabf3d90",
   "metadata": {},
   "outputs": [],
   "source": [
    "seed = 42\n",
    "\n",
    "np.random.seed(seed)\n",
    "train_split = 0.8\n",
    "dev_split = test_split = 0.1\n",
    "\n",
    "# only make test split if needed\n",
    "make_test_split = True"
   ]
  },
  {
   "cell_type": "code",
   "execution_count": 26,
   "id": "06fe9039-043e-4f87-af52-69103c0667cf",
   "metadata": {},
   "outputs": [
    {
     "data": {
      "text/plain": [
       "(1285,\n",
       " 0.7996266334785315,\n",
       " 161,\n",
       " 0.1001866832607343,\n",
       " 161,\n",
       " 0.1001866832607343,\n",
       " True)"
      ]
     },
     "execution_count": 26,
     "metadata": {},
     "output_type": "execute_result"
    }
   ],
   "source": [
    "if not make_test_split:\n",
    "    train_split += test_split\n",
    "    test_split = 0.\n",
    "\n",
    "train, dev, test = np.split(\n",
    "    df.sample(frac=1, random_state=seed),\n",
    "    [int(train_split * len(df)), int((train_split + dev_split) * len(df))],\n",
    ")\n",
    "len(train), len(train) / len(df), len(dev), len(dev) / len(df), len(test), len(test) / len(df), len(train) + len(dev) + len(test) == len(df)"
   ]
  },
  {
   "cell_type": "code",
   "execution_count": 27,
   "id": "d4c164d1-7282-4138-826b-2266efdc8a3b",
   "metadata": {},
   "outputs": [
    {
     "data": {
      "text/html": [
       "<div>\n",
       "<style scoped>\n",
       "    .dataframe tbody tr th:only-of-type {\n",
       "        vertical-align: middle;\n",
       "    }\n",
       "\n",
       "    .dataframe tbody tr th {\n",
       "        vertical-align: top;\n",
       "    }\n",
       "\n",
       "    .dataframe thead th {\n",
       "        text-align: right;\n",
       "    }\n",
       "</style>\n",
       "<table border=\"1\" class=\"dataframe\">\n",
       "  <thead>\n",
       "    <tr style=\"text-align: right;\">\n",
       "      <th></th>\n",
       "      <th>text</th>\n",
       "      <th>target</th>\n",
       "    </tr>\n",
       "  </thead>\n",
       "  <tbody>\n",
       "    <tr>\n",
       "      <th>539</th>\n",
       "      <td>PROFESSOR: So the goal for today is to talk ab...</td>\n",
       "      <td>This lecture focuses on shared media networks ...</td>\n",
       "    </tr>\n",
       "    <tr>\n",
       "      <th>1342</th>\n",
       "      <td>Prof: Now today I am going to talk about biodi...</td>\n",
       "      <td>One can look at biodiversity from several pers...</td>\n",
       "    </tr>\n",
       "    <tr>\n",
       "      <th>168</th>\n",
       "      <td>ADAM MARTIN: And so today and for the remainde...</td>\n",
       "      <td>The theme for the next few lectures is the cel...</td>\n",
       "    </tr>\n",
       "  </tbody>\n",
       "</table>\n",
       "</div>"
      ],
      "text/plain": [
       "                                                   text  \\\n",
       "539   PROFESSOR: So the goal for today is to talk ab...   \n",
       "1342  Prof: Now today I am going to talk about biodi...   \n",
       "168   ADAM MARTIN: And so today and for the remainde...   \n",
       "\n",
       "                                                 target  \n",
       "539   This lecture focuses on shared media networks ...  \n",
       "1342  One can look at biodiversity from several pers...  \n",
       "168   The theme for the next few lectures is the cel...  "
      ]
     },
     "execution_count": 27,
     "metadata": {},
     "output_type": "execute_result"
    }
   ],
   "source": [
    "train.head(3)"
   ]
  },
  {
   "cell_type": "code",
   "execution_count": 28,
   "id": "87c1de3d-36e2-4cd4-a5dc-068aa7de5b19",
   "metadata": {},
   "outputs": [
    {
     "data": {
      "text/html": [
       "<div>\n",
       "<style scoped>\n",
       "    .dataframe tbody tr th:only-of-type {\n",
       "        vertical-align: middle;\n",
       "    }\n",
       "\n",
       "    .dataframe tbody tr th {\n",
       "        vertical-align: top;\n",
       "    }\n",
       "\n",
       "    .dataframe thead th {\n",
       "        text-align: right;\n",
       "    }\n",
       "</style>\n",
       "<table border=\"1\" class=\"dataframe\">\n",
       "  <thead>\n",
       "    <tr style=\"text-align: right;\">\n",
       "      <th></th>\n",
       "      <th>text</th>\n",
       "      <th>target</th>\n",
       "    </tr>\n",
       "  </thead>\n",
       "  <tbody>\n",
       "    <tr>\n",
       "      <th>555</th>\n",
       "      <td>HUGH MCMANUS: This video is intended to descri...</td>\n",
       "      <td>This video covers aspects of the Lean healthca...</td>\n",
       "    </tr>\n",
       "    <tr>\n",
       "      <th>667</th>\n",
       "      <td>PROF. PATRICK WINSTON: Well that's the Kodo Dr...</td>\n",
       "      <td>This lecture begins with a high-level view of ...</td>\n",
       "    </tr>\n",
       "    <tr>\n",
       "      <th>1322</th>\n",
       "      <td>Prof: Okay, today we're going to talk about li...</td>\n",
       "      <td>Life history covers three main classes of trai...</td>\n",
       "    </tr>\n",
       "  </tbody>\n",
       "</table>\n",
       "</div>"
      ],
      "text/plain": [
       "                                                   text  \\\n",
       "555   HUGH MCMANUS: This video is intended to descri...   \n",
       "667   PROF. PATRICK WINSTON: Well that's the Kodo Dr...   \n",
       "1322  Prof: Okay, today we're going to talk about li...   \n",
       "\n",
       "                                                 target  \n",
       "555   This video covers aspects of the Lean healthca...  \n",
       "667   This lecture begins with a high-level view of ...  \n",
       "1322  Life history covers three main classes of trai...  "
      ]
     },
     "execution_count": 28,
     "metadata": {},
     "output_type": "execute_result"
    }
   ],
   "source": [
    "dev.head(3)"
   ]
  },
  {
   "cell_type": "code",
   "execution_count": 29,
   "id": "df5efacf-ea6e-484c-8183-2d2b0bf378fc",
   "metadata": {},
   "outputs": [],
   "source": [
    "if make_test_split:\n",
    "    test.head(3)"
   ]
  },
  {
   "cell_type": "markdown",
   "id": "5455b36c-f462-4b4c-9549-7b4ef949e696",
   "metadata": {},
   "source": [
    "### Save dataset as CSV files"
   ]
  },
  {
   "cell_type": "code",
   "execution_count": 30,
   "id": "31d7ce1a-5676-4e86-b05f-c644e6425adc",
   "metadata": {},
   "outputs": [],
   "source": [
    "train.to_csv(train_split_csv_file)\n",
    "dev.to_csv(dev_split_csv_file)\n",
    "if make_test_split:\n",
    "    test.to_csv(test_split_csv_file)"
   ]
  },
  {
   "cell_type": "code",
   "execution_count": null,
   "id": "5c572cec-4928-475f-b335-4957557d5060",
   "metadata": {},
   "outputs": [],
   "source": []
  }
 ],
 "metadata": {
  "kernelspec": {
   "display_name": "Python 3 (ipykernel)",
   "language": "python",
   "name": "python3"
  },
  "language_info": {
   "codemirror_mode": {
    "name": "ipython",
    "version": 3
   },
   "file_extension": ".py",
   "mimetype": "text/x-python",
   "name": "python",
   "nbconvert_exporter": "python",
   "pygments_lexer": "ipython3",
   "version": "3.10.0"
  }
 },
 "nbformat": 4,
 "nbformat_minor": 5
}
