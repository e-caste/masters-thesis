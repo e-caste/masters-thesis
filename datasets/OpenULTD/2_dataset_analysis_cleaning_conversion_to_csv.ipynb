{
 "cells": [
  {
   "cell_type": "code",
   "execution_count": 1,
   "id": "33862bb1-e0dd-4b34-83c9-1372eed39bf1",
   "metadata": {},
   "outputs": [
    {
     "name": "stdout",
     "output_type": "stream",
     "text": [
      "Requirement already satisfied: pandas in /home/caste/Documents/thesis/venv/lib/python3.10/site-packages (1.5.2)\n",
      "Requirement already satisfied: seaborn in /home/caste/Documents/thesis/venv/lib/python3.10/site-packages (0.12.1)\n",
      "Requirement already satisfied: transformers in /home/caste/Documents/thesis/venv/lib/python3.10/site-packages (4.25.1)\n",
      "Requirement already satisfied: tqdm in /home/caste/Documents/thesis/venv/lib/python3.10/site-packages (4.64.1)\n",
      "Requirement already satisfied: numpy in /home/caste/Documents/thesis/venv/lib/python3.10/site-packages (1.23.5)\n",
      "Requirement already satisfied: nltk in /home/caste/Documents/thesis/venv/lib/python3.10/site-packages (3.8)\n",
      "Requirement already satisfied: pytz>=2020.1 in /home/caste/Documents/thesis/venv/lib/python3.10/site-packages (from pandas) (2022.6)\n",
      "Requirement already satisfied: python-dateutil>=2.8.1 in /home/caste/Documents/thesis/venv/lib/python3.10/site-packages (from pandas) (2.8.2)\n",
      "Requirement already satisfied: matplotlib!=3.6.1,>=3.1 in /home/caste/Documents/thesis/venv/lib/python3.10/site-packages (from seaborn) (3.6.2)\n",
      "Requirement already satisfied: tokenizers!=0.11.3,<0.14,>=0.11.1 in /home/caste/Documents/thesis/venv/lib/python3.10/site-packages (from transformers) (0.13.2)\n",
      "Requirement already satisfied: requests in /home/caste/Documents/thesis/venv/lib/python3.10/site-packages (from transformers) (2.28.1)\n",
      "Requirement already satisfied: regex!=2019.12.17 in /home/caste/Documents/thesis/venv/lib/python3.10/site-packages (from transformers) (2022.10.31)\n",
      "Requirement already satisfied: huggingface-hub<1.0,>=0.10.0 in /home/caste/Documents/thesis/venv/lib/python3.10/site-packages (from transformers) (0.11.1)\n",
      "Requirement already satisfied: packaging>=20.0 in /home/caste/Documents/thesis/venv/lib/python3.10/site-packages (from transformers) (22.0)\n",
      "Requirement already satisfied: pyyaml>=5.1 in /home/caste/Documents/thesis/venv/lib/python3.10/site-packages (from transformers) (6.0)\n",
      "Requirement already satisfied: filelock in /home/caste/Documents/thesis/venv/lib/python3.10/site-packages (from transformers) (3.8.2)\n",
      "Requirement already satisfied: joblib in /home/caste/Documents/thesis/venv/lib/python3.10/site-packages (from nltk) (1.2.0)\n",
      "Requirement already satisfied: click in /home/caste/Documents/thesis/venv/lib/python3.10/site-packages (from nltk) (8.1.3)\n",
      "Requirement already satisfied: typing-extensions>=3.7.4.3 in /home/caste/Documents/thesis/venv/lib/python3.10/site-packages (from huggingface-hub<1.0,>=0.10.0->transformers) (4.4.0)\n",
      "Requirement already satisfied: kiwisolver>=1.0.1 in /home/caste/Documents/thesis/venv/lib/python3.10/site-packages (from matplotlib!=3.6.1,>=3.1->seaborn) (1.4.4)\n",
      "Requirement already satisfied: fonttools>=4.22.0 in /home/caste/Documents/thesis/venv/lib/python3.10/site-packages (from matplotlib!=3.6.1,>=3.1->seaborn) (4.38.0)\n",
      "Requirement already satisfied: pyparsing>=2.2.1 in /home/caste/Documents/thesis/venv/lib/python3.10/site-packages (from matplotlib!=3.6.1,>=3.1->seaborn) (3.0.9)\n",
      "Requirement already satisfied: pillow>=6.2.0 in /home/caste/Documents/thesis/venv/lib/python3.10/site-packages (from matplotlib!=3.6.1,>=3.1->seaborn) (9.3.0)\n",
      "Requirement already satisfied: contourpy>=1.0.1 in /home/caste/Documents/thesis/venv/lib/python3.10/site-packages (from matplotlib!=3.6.1,>=3.1->seaborn) (1.0.6)\n",
      "Requirement already satisfied: cycler>=0.10 in /home/caste/Documents/thesis/venv/lib/python3.10/site-packages (from matplotlib!=3.6.1,>=3.1->seaborn) (0.11.0)\n",
      "Requirement already satisfied: six>=1.5 in /home/caste/Documents/thesis/venv/lib/python3.10/site-packages (from python-dateutil>=2.8.1->pandas) (1.16.0)\n",
      "Requirement already satisfied: idna<4,>=2.5 in /home/caste/Documents/thesis/venv/lib/python3.10/site-packages (from requests->transformers) (3.4)\n",
      "Requirement already satisfied: certifi>=2017.4.17 in /home/caste/Documents/thesis/venv/lib/python3.10/site-packages (from requests->transformers) (2022.12.7)\n",
      "Requirement already satisfied: urllib3<1.27,>=1.21.1 in /home/caste/Documents/thesis/venv/lib/python3.10/site-packages (from requests->transformers) (1.26.13)\n",
      "Requirement already satisfied: charset-normalizer<3,>=2 in /home/caste/Documents/thesis/venv/lib/python3.10/site-packages (from requests->transformers) (2.1.1)\n"
     ]
    }
   ],
   "source": [
    "!pip install pandas seaborn transformers tqdm numpy nltk"
   ]
  },
  {
   "cell_type": "code",
   "execution_count": 2,
   "id": "8d35acbb-861c-4f79-93c5-08979f61eb21",
   "metadata": {},
   "outputs": [
    {
     "name": "stderr",
     "output_type": "stream",
     "text": [
      "[nltk_data] Downloading package punkt to /home/caste/nltk_data...\n",
      "[nltk_data]   Package punkt is already up-to-date!\n"
     ]
    }
   ],
   "source": [
    "import json\n",
    "import numpy as np\n",
    "import pandas as pd\n",
    "import seaborn as sns\n",
    "from tqdm.auto import tqdm\n",
    "from transformers import BartTokenizerFast\n",
    "import nltk\n",
    "nltk.download(\"punkt\")\n",
    "\n",
    "from common import *"
   ]
  },
  {
   "cell_type": "code",
   "execution_count": 3,
   "id": "ea18ac00-c46e-4704-8760-6a7060386f8c",
   "metadata": {},
   "outputs": [],
   "source": [
    "dataset = json.load(open(aggregated_dataset_file, \"r\"))\n",
    "tokenizer = BartTokenizerFast.from_pretrained(\"facebook/bart-base\")"
   ]
  },
  {
   "cell_type": "markdown",
   "id": "7271614f-9186-4bf3-9d8e-124a33ac9b18",
   "metadata": {},
   "source": [
    "### Convert JSON nested dataset to CSV-like tabular format"
   ]
  },
  {
   "cell_type": "code",
   "execution_count": 4,
   "id": "8a2f5561-de78-4807-a3f2-d14a5d706344",
   "metadata": {},
   "outputs": [
    {
     "data": {
      "application/vnd.jupyter.widget-view+json": {
       "model_id": "093ce5292865422cb5830a68576f7670",
       "version_major": 2,
       "version_minor": 0
      },
      "text/plain": [
       "  0%|          | 0/15229 [00:00<?, ?it/s]"
      ]
     },
     "metadata": {},
     "output_type": "display_data"
    },
    {
     "name": "stderr",
     "output_type": "stream",
     "text": [
      "Token indices sequence length is longer than the specified maximum sequence length for this model (3332 > 1024). Running this sequence through the model will result in indexing errors\n"
     ]
    }
   ],
   "source": [
    "tabular_dataset = []\n",
    "# essentially flatmap\n",
    "with tqdm(range(sum(len(c['lectures']) for c in dataset))) as progress_bar:\n",
    "    for course in dataset:\n",
    "        for lecture in course['lectures']:\n",
    "            tabular_dataset.append({\n",
    "                'from_subset': course['from_subset'],\n",
    "                'course_title': course['title'],\n",
    "                'course_url': course['url'],\n",
    "                'lecture_title': lecture['title'],\n",
    "                'transcript': lecture['transcript'],\n",
    "                'transcript_length_characters': len(lecture['transcript']),\n",
    "                'transcript_length_tokens': len(tokenizer(lecture['transcript'])['input_ids']),\n",
    "                'transcript_length_words': len(nltk.word_tokenize(lecture['transcript'])),\n",
    "                'transcript_length_sentences': len(nltk.sent_tokenize(lecture['transcript'])),\n",
    "            })\n",
    "            progress_bar.update()"
   ]
  },
  {
   "cell_type": "code",
   "execution_count": 5,
   "id": "7050a9a8-495b-43c8-94db-be109a18ebbd",
   "metadata": {},
   "outputs": [
    {
     "data": {
      "text/html": [
       "<div>\n",
       "<style scoped>\n",
       "    .dataframe tbody tr th:only-of-type {\n",
       "        vertical-align: middle;\n",
       "    }\n",
       "\n",
       "    .dataframe tbody tr th {\n",
       "        vertical-align: top;\n",
       "    }\n",
       "\n",
       "    .dataframe thead th {\n",
       "        text-align: right;\n",
       "    }\n",
       "</style>\n",
       "<table border=\"1\" class=\"dataframe\">\n",
       "  <thead>\n",
       "    <tr style=\"text-align: right;\">\n",
       "      <th></th>\n",
       "      <th>from_subset</th>\n",
       "      <th>course_title</th>\n",
       "      <th>course_url</th>\n",
       "      <th>lecture_title</th>\n",
       "      <th>transcript</th>\n",
       "      <th>transcript_length_characters</th>\n",
       "      <th>transcript_length_tokens</th>\n",
       "      <th>transcript_length_words</th>\n",
       "      <th>transcript_length_sentences</th>\n",
       "    </tr>\n",
       "  </thead>\n",
       "  <tbody>\n",
       "    <tr>\n",
       "      <th>0</th>\n",
       "      <td>mitocw</td>\n",
       "      <td>Introduction to Special Relativity</td>\n",
       "      <td>https://ocw.mit.edu/courses/8-20-introduction-...</td>\n",
       "      <td>Week 1: Foundations of Special Relativity\\nLEC...</td>\n",
       "      <td>MARKUS KLUTE: Welcome to 8.20. Welcome to Spec...</td>\n",
       "      <td>14972</td>\n",
       "      <td>3332</td>\n",
       "      <td>3233</td>\n",
       "      <td>207</td>\n",
       "    </tr>\n",
       "    <tr>\n",
       "      <th>1</th>\n",
       "      <td>mitocw</td>\n",
       "      <td>Introduction to Special Relativity</td>\n",
       "      <td>https://ocw.mit.edu/courses/8-20-introduction-...</td>\n",
       "      <td>Week 1: Foundations of Special Relativity\\nLEC...</td>\n",
       "      <td>PROFESSOR: Hello, and welcome back to 8.20, sp...</td>\n",
       "      <td>11046</td>\n",
       "      <td>2466</td>\n",
       "      <td>2256</td>\n",
       "      <td>137</td>\n",
       "    </tr>\n",
       "    <tr>\n",
       "      <th>2</th>\n",
       "      <td>mitocw</td>\n",
       "      <td>Introduction to Special Relativity</td>\n",
       "      <td>https://ocw.mit.edu/courses/8-20-introduction-...</td>\n",
       "      <td>Week 1: Foundations of Special Relativity\\nLEC...</td>\n",
       "      <td>MARKUS KLUTE: Welcome back to 8.20- Special Re...</td>\n",
       "      <td>7854</td>\n",
       "      <td>1679</td>\n",
       "      <td>1605</td>\n",
       "      <td>94</td>\n",
       "    </tr>\n",
       "    <tr>\n",
       "      <th>3</th>\n",
       "      <td>mitocw</td>\n",
       "      <td>Introduction to Special Relativity</td>\n",
       "      <td>https://ocw.mit.edu/courses/8-20-introduction-...</td>\n",
       "      <td>Week 1: Foundations of Special Relativity\\nLEC...</td>\n",
       "      <td>PROFESSOR: So I'm going to come to 8.20- Speci...</td>\n",
       "      <td>72049</td>\n",
       "      <td>15301</td>\n",
       "      <td>14485</td>\n",
       "      <td>773</td>\n",
       "    </tr>\n",
       "    <tr>\n",
       "      <th>4</th>\n",
       "      <td>mitocw</td>\n",
       "      <td>Introduction to Special Relativity</td>\n",
       "      <td>https://ocw.mit.edu/courses/8-20-introduction-...</td>\n",
       "      <td>Week 1: Foundations of Special Relativity\\nLEC...</td>\n",
       "      <td>MARKUS KLUTE: Welcome back to 8.20 Special Rel...</td>\n",
       "      <td>2633</td>\n",
       "      <td>550</td>\n",
       "      <td>506</td>\n",
       "      <td>30</td>\n",
       "    </tr>\n",
       "    <tr>\n",
       "      <th>...</th>\n",
       "      <td>...</td>\n",
       "      <td>...</td>\n",
       "      <td>...</td>\n",
       "      <td>...</td>\n",
       "      <td>...</td>\n",
       "      <td>...</td>\n",
       "      <td>...</td>\n",
       "      <td>...</td>\n",
       "      <td>...</td>\n",
       "    </tr>\n",
       "    <tr>\n",
       "      <th>15224</th>\n",
       "      <td>yale</td>\n",
       "      <td>Fundamentals of Physics with Ramamurti Shankar</td>\n",
       "      <td>https://www.youtube.com/playlist?list=PLFE3074...</td>\n",
       "      <td>20. Fluid Dynamics and Statics and Bernoulli's...</td>\n",
       "      <td>Professor Ramamurti Shankar: This is a relativ...</td>\n",
       "      <td>60571</td>\n",
       "      <td>14732</td>\n",
       "      <td>13811</td>\n",
       "      <td>850</td>\n",
       "    </tr>\n",
       "    <tr>\n",
       "      <th>15225</th>\n",
       "      <td>yale</td>\n",
       "      <td>Fundamentals of Physics with Ramamurti Shankar</td>\n",
       "      <td>https://www.youtube.com/playlist?list=PLFE3074...</td>\n",
       "      <td>21. Thermodynamics</td>\n",
       "      <td>Professor Ramamurti Shankar: Alright class, we...</td>\n",
       "      <td>64333</td>\n",
       "      <td>14719</td>\n",
       "      <td>14226</td>\n",
       "      <td>724</td>\n",
       "    </tr>\n",
       "    <tr>\n",
       "      <th>15226</th>\n",
       "      <td>yale</td>\n",
       "      <td>Fundamentals of Physics with Ramamurti Shankar</td>\n",
       "      <td>https://www.youtube.com/playlist?list=PLFE3074...</td>\n",
       "      <td>22. The Boltzmann Constant and First Law of Th...</td>\n",
       "      <td>So, I had to leave you in the middle of someth...</td>\n",
       "      <td>64480</td>\n",
       "      <td>15115</td>\n",
       "      <td>14416</td>\n",
       "      <td>834</td>\n",
       "    </tr>\n",
       "    <tr>\n",
       "      <th>15227</th>\n",
       "      <td>yale</td>\n",
       "      <td>Fundamentals of Physics with Ramamurti Shankar</td>\n",
       "      <td>https://www.youtube.com/playlist?list=PLFE3074...</td>\n",
       "      <td>23. The Second Law of Thermodynamics and Carno...</td>\n",
       "      <td>Professor Ramamurti Shankar: What I did yester...</td>\n",
       "      <td>55343</td>\n",
       "      <td>13676</td>\n",
       "      <td>12686</td>\n",
       "      <td>718</td>\n",
       "    </tr>\n",
       "    <tr>\n",
       "      <th>15228</th>\n",
       "      <td>yale</td>\n",
       "      <td>Fundamentals of Physics with Ramamurti Shankar</td>\n",
       "      <td>https://www.youtube.com/playlist?list=PLFE3074...</td>\n",
       "      <td>24. The Second Law of Thermodynamics (cont.) a...</td>\n",
       "      <td>Okay, what I did last time was describe to you...</td>\n",
       "      <td>58133</td>\n",
       "      <td>13821</td>\n",
       "      <td>12939</td>\n",
       "      <td>608</td>\n",
       "    </tr>\n",
       "  </tbody>\n",
       "</table>\n",
       "<p>15229 rows × 9 columns</p>\n",
       "</div>"
      ],
      "text/plain": [
       "      from_subset                                    course_title  \\\n",
       "0          mitocw              Introduction to Special Relativity   \n",
       "1          mitocw              Introduction to Special Relativity   \n",
       "2          mitocw              Introduction to Special Relativity   \n",
       "3          mitocw              Introduction to Special Relativity   \n",
       "4          mitocw              Introduction to Special Relativity   \n",
       "...           ...                                             ...   \n",
       "15224        yale  Fundamentals of Physics with Ramamurti Shankar   \n",
       "15225        yale  Fundamentals of Physics with Ramamurti Shankar   \n",
       "15226        yale  Fundamentals of Physics with Ramamurti Shankar   \n",
       "15227        yale  Fundamentals of Physics with Ramamurti Shankar   \n",
       "15228        yale  Fundamentals of Physics with Ramamurti Shankar   \n",
       "\n",
       "                                              course_url  \\\n",
       "0      https://ocw.mit.edu/courses/8-20-introduction-...   \n",
       "1      https://ocw.mit.edu/courses/8-20-introduction-...   \n",
       "2      https://ocw.mit.edu/courses/8-20-introduction-...   \n",
       "3      https://ocw.mit.edu/courses/8-20-introduction-...   \n",
       "4      https://ocw.mit.edu/courses/8-20-introduction-...   \n",
       "...                                                  ...   \n",
       "15224  https://www.youtube.com/playlist?list=PLFE3074...   \n",
       "15225  https://www.youtube.com/playlist?list=PLFE3074...   \n",
       "15226  https://www.youtube.com/playlist?list=PLFE3074...   \n",
       "15227  https://www.youtube.com/playlist?list=PLFE3074...   \n",
       "15228  https://www.youtube.com/playlist?list=PLFE3074...   \n",
       "\n",
       "                                           lecture_title  \\\n",
       "0      Week 1: Foundations of Special Relativity\\nLEC...   \n",
       "1      Week 1: Foundations of Special Relativity\\nLEC...   \n",
       "2      Week 1: Foundations of Special Relativity\\nLEC...   \n",
       "3      Week 1: Foundations of Special Relativity\\nLEC...   \n",
       "4      Week 1: Foundations of Special Relativity\\nLEC...   \n",
       "...                                                  ...   \n",
       "15224  20. Fluid Dynamics and Statics and Bernoulli's...   \n",
       "15225                                 21. Thermodynamics   \n",
       "15226  22. The Boltzmann Constant and First Law of Th...   \n",
       "15227  23. The Second Law of Thermodynamics and Carno...   \n",
       "15228  24. The Second Law of Thermodynamics (cont.) a...   \n",
       "\n",
       "                                              transcript  \\\n",
       "0      MARKUS KLUTE: Welcome to 8.20. Welcome to Spec...   \n",
       "1      PROFESSOR: Hello, and welcome back to 8.20, sp...   \n",
       "2      MARKUS KLUTE: Welcome back to 8.20- Special Re...   \n",
       "3      PROFESSOR: So I'm going to come to 8.20- Speci...   \n",
       "4      MARKUS KLUTE: Welcome back to 8.20 Special Rel...   \n",
       "...                                                  ...   \n",
       "15224  Professor Ramamurti Shankar: This is a relativ...   \n",
       "15225  Professor Ramamurti Shankar: Alright class, we...   \n",
       "15226  So, I had to leave you in the middle of someth...   \n",
       "15227  Professor Ramamurti Shankar: What I did yester...   \n",
       "15228  Okay, what I did last time was describe to you...   \n",
       "\n",
       "       transcript_length_characters  transcript_length_tokens  \\\n",
       "0                             14972                      3332   \n",
       "1                             11046                      2466   \n",
       "2                              7854                      1679   \n",
       "3                             72049                     15301   \n",
       "4                              2633                       550   \n",
       "...                             ...                       ...   \n",
       "15224                         60571                     14732   \n",
       "15225                         64333                     14719   \n",
       "15226                         64480                     15115   \n",
       "15227                         55343                     13676   \n",
       "15228                         58133                     13821   \n",
       "\n",
       "       transcript_length_words  transcript_length_sentences  \n",
       "0                         3233                          207  \n",
       "1                         2256                          137  \n",
       "2                         1605                           94  \n",
       "3                        14485                          773  \n",
       "4                          506                           30  \n",
       "...                        ...                          ...  \n",
       "15224                    13811                          850  \n",
       "15225                    14226                          724  \n",
       "15226                    14416                          834  \n",
       "15227                    12686                          718  \n",
       "15228                    12939                          608  \n",
       "\n",
       "[15229 rows x 9 columns]"
      ]
     },
     "execution_count": 5,
     "metadata": {},
     "output_type": "execute_result"
    }
   ],
   "source": [
    "df = pd.DataFrame(tabular_dataset)\n",
    "df"
   ]
  },
  {
   "cell_type": "code",
   "execution_count": 6,
   "id": "b65cf02a-591a-45f5-88ac-5a0ecdfa7802",
   "metadata": {},
   "outputs": [
    {
     "data": {
      "text/plain": [
       "from_subset                     object\n",
       "course_title                    object\n",
       "course_url                      object\n",
       "lecture_title                   object\n",
       "transcript                      object\n",
       "transcript_length_characters     int64\n",
       "transcript_length_tokens         int64\n",
       "transcript_length_words          int64\n",
       "transcript_length_sentences      int64\n",
       "dtype: object"
      ]
     },
     "execution_count": 6,
     "metadata": {},
     "output_type": "execute_result"
    }
   ],
   "source": [
    "df.dtypes"
   ]
  },
  {
   "cell_type": "code",
   "execution_count": 7,
   "id": "8220bacb-a0cc-47cc-b9b2-26e661e03e2e",
   "metadata": {},
   "outputs": [
    {
     "data": {
      "text/plain": [
       "vtssum     9616\n",
       "mitocw     3547\n",
       "yale       1096\n",
       "openhpi     970\n",
       "Name: from_subset, dtype: int64"
      ]
     },
     "execution_count": 7,
     "metadata": {},
     "output_type": "execute_result"
    }
   ],
   "source": [
    "df['from_subset'].value_counts()"
   ]
  },
  {
   "cell_type": "code",
   "execution_count": 8,
   "id": "dc655c5b-7248-4247-9dde-5f0a3a44d586",
   "metadata": {},
   "outputs": [
    {
     "data": {
      "text/html": [
       "<div>\n",
       "<style scoped>\n",
       "    .dataframe tbody tr th:only-of-type {\n",
       "        vertical-align: middle;\n",
       "    }\n",
       "\n",
       "    .dataframe tbody tr th {\n",
       "        vertical-align: top;\n",
       "    }\n",
       "\n",
       "    .dataframe thead th {\n",
       "        text-align: right;\n",
       "    }\n",
       "</style>\n",
       "<table border=\"1\" class=\"dataframe\">\n",
       "  <thead>\n",
       "    <tr style=\"text-align: right;\">\n",
       "      <th></th>\n",
       "      <th>from_subset</th>\n",
       "      <th>course_title</th>\n",
       "      <th>course_url</th>\n",
       "      <th>lecture_title</th>\n",
       "      <th>transcript</th>\n",
       "    </tr>\n",
       "  </thead>\n",
       "  <tbody>\n",
       "    <tr>\n",
       "      <th>count</th>\n",
       "      <td>15229</td>\n",
       "      <td>15229</td>\n",
       "      <td>15229</td>\n",
       "      <td>15229</td>\n",
       "      <td>15229</td>\n",
       "    </tr>\n",
       "    <tr>\n",
       "      <th>unique</th>\n",
       "      <td>4</td>\n",
       "      <td>198</td>\n",
       "      <td>198</td>\n",
       "      <td>13655</td>\n",
       "      <td>14782</td>\n",
       "    </tr>\n",
       "    <tr>\n",
       "      <th>top</th>\n",
       "      <td>vtssum</td>\n",
       "      <td>videolectures.net</td>\n",
       "      <td>http://videolectures.net</td>\n",
       "      <td>Poster Spotlights</td>\n",
       "      <td>The following content is provided under a Crea...</td>\n",
       "    </tr>\n",
       "    <tr>\n",
       "      <th>freq</th>\n",
       "      <td>9616</td>\n",
       "      <td>9616</td>\n",
       "      <td>9616</td>\n",
       "      <td>24</td>\n",
       "      <td>9</td>\n",
       "    </tr>\n",
       "  </tbody>\n",
       "</table>\n",
       "</div>"
      ],
      "text/plain": [
       "       from_subset       course_title                course_url  \\\n",
       "count        15229              15229                     15229   \n",
       "unique           4                198                       198   \n",
       "top         vtssum  videolectures.net  http://videolectures.net   \n",
       "freq          9616               9616                      9616   \n",
       "\n",
       "            lecture_title                                         transcript  \n",
       "count               15229                                              15229  \n",
       "unique              13655                                              14782  \n",
       "top     Poster Spotlights  The following content is provided under a Crea...  \n",
       "freq                   24                                                  9  "
      ]
     },
     "execution_count": 8,
     "metadata": {},
     "output_type": "execute_result"
    }
   ],
   "source": [
    "df[['from_subset', 'course_title', 'course_url', 'lecture_title', 'transcript']].describe()"
   ]
  },
  {
   "cell_type": "code",
   "execution_count": 9,
   "id": "fe578957-7bc0-4a09-b044-f036ddc1524e",
   "metadata": {},
   "outputs": [
    {
     "name": "stdout",
     "output_type": "stream",
     "text": [
      "<class 'pandas.core.frame.DataFrame'>\n",
      "RangeIndex: 15229 entries, 0 to 15228\n",
      "Data columns (total 9 columns):\n",
      " #   Column                        Non-Null Count  Dtype \n",
      "---  ------                        --------------  ----- \n",
      " 0   from_subset                   15229 non-null  object\n",
      " 1   course_title                  15229 non-null  object\n",
      " 2   course_url                    15229 non-null  object\n",
      " 3   lecture_title                 15229 non-null  object\n",
      " 4   transcript                    15229 non-null  object\n",
      " 5   transcript_length_characters  15229 non-null  int64 \n",
      " 6   transcript_length_tokens      15229 non-null  int64 \n",
      " 7   transcript_length_words       15229 non-null  int64 \n",
      " 8   transcript_length_sentences   15229 non-null  int64 \n",
      "dtypes: int64(4), object(5)\n",
      "memory usage: 1.0+ MB\n"
     ]
    }
   ],
   "source": [
    "df.info()"
   ]
  },
  {
   "cell_type": "markdown",
   "id": "2c77020c-7a37-44d8-858e-c54e5f7d30fc",
   "metadata": {
    "tags": []
   },
   "source": [
    "#### Notes\n",
    "1. We don't have any null transcript ✅\n",
    "2. We have a few (15229 - 13655 = 1574) lecture title duplicates\n",
    "3. We have a few (15229 - 14778 = 451) transcript duplicates"
   ]
  },
  {
   "cell_type": "markdown",
   "id": "dafe9e1d-4119-4820-acaa-c038c66062b7",
   "metadata": {
    "tags": []
   },
   "source": [
    "### Filter transcripts with length < 500 characters\n",
    "500 is chosen arbitrarily as a small minimum threshold a transcript should pass. This is to filter very short transcripts, which cannot belong to a video lecture. We can see from the transcript lengths percentiles table below that the large majority of transcripts is longer than this threshold."
   ]
  },
  {
   "cell_type": "code",
   "execution_count": 10,
   "id": "cd3bdb25-3dfb-4e56-b9e7-3cc3a36dd8fd",
   "metadata": {},
   "outputs": [
    {
     "name": "stdout",
     "output_type": "stream",
     "text": [
      "Removed 112 short transcripts.\n"
     ]
    }
   ],
   "source": [
    "_df_len_before = len(df)\n",
    "df = df[df['transcript_length_characters'] > 500].copy()\n",
    "_df_len_after = len(df)\n",
    "print(f\"Removed {_df_len_before - _df_len_after} short transcripts.\")"
   ]
  },
  {
   "cell_type": "markdown",
   "id": "2eae6dab-305c-476c-8d03-e4fcab903f47",
   "metadata": {},
   "source": [
    "### Remove duplicate transcripts"
   ]
  },
  {
   "cell_type": "code",
   "execution_count": 11,
   "id": "7496b694-ebf2-4bf0-9299-344fb9bd6310",
   "metadata": {},
   "outputs": [
    {
     "name": "stdout",
     "output_type": "stream",
     "text": [
      "Removed 552 duplicate transcripts.\n"
     ]
    }
   ],
   "source": [
    "df_len_before = len(df)\n",
    "df.drop_duplicates(subset=['transcript'], keep=\"first\", inplace=True)\n",
    "_df_len_after = len(df)\n",
    "print(f\"Removed {_df_len_before - _df_len_after} duplicate transcripts.\")"
   ]
  },
  {
   "cell_type": "code",
   "execution_count": 12,
   "id": "9011ba5e-09d3-4490-a41a-dcf4895237a0",
   "metadata": {},
   "outputs": [
    {
     "data": {
      "text/html": [
       "<div>\n",
       "<style scoped>\n",
       "    .dataframe tbody tr th:only-of-type {\n",
       "        vertical-align: middle;\n",
       "    }\n",
       "\n",
       "    .dataframe tbody tr th {\n",
       "        vertical-align: top;\n",
       "    }\n",
       "\n",
       "    .dataframe thead th {\n",
       "        text-align: right;\n",
       "    }\n",
       "</style>\n",
       "<table border=\"1\" class=\"dataframe\">\n",
       "  <thead>\n",
       "    <tr style=\"text-align: right;\">\n",
       "      <th></th>\n",
       "      <th>from_subset</th>\n",
       "      <th>course_title</th>\n",
       "      <th>course_url</th>\n",
       "      <th>lecture_title</th>\n",
       "      <th>transcript</th>\n",
       "    </tr>\n",
       "  </thead>\n",
       "  <tbody>\n",
       "    <tr>\n",
       "      <th>count</th>\n",
       "      <td>14677</td>\n",
       "      <td>14677</td>\n",
       "      <td>14677</td>\n",
       "      <td>14677</td>\n",
       "      <td>14677</td>\n",
       "    </tr>\n",
       "    <tr>\n",
       "      <th>unique</th>\n",
       "      <td>4</td>\n",
       "      <td>198</td>\n",
       "      <td>198</td>\n",
       "      <td>13417</td>\n",
       "      <td>14677</td>\n",
       "    </tr>\n",
       "    <tr>\n",
       "      <th>top</th>\n",
       "      <td>vtssum</td>\n",
       "      <td>videolectures.net</td>\n",
       "      <td>http://videolectures.net</td>\n",
       "      <td>Poster Spotlights</td>\n",
       "      <td>MARKUS KLUTE: Welcome to 8.20. Welcome to Spec...</td>\n",
       "    </tr>\n",
       "    <tr>\n",
       "      <th>freq</th>\n",
       "      <td>9229</td>\n",
       "      <td>9229</td>\n",
       "      <td>9229</td>\n",
       "      <td>23</td>\n",
       "      <td>1</td>\n",
       "    </tr>\n",
       "  </tbody>\n",
       "</table>\n",
       "</div>"
      ],
      "text/plain": [
       "       from_subset       course_title                course_url  \\\n",
       "count        14677              14677                     14677   \n",
       "unique           4                198                       198   \n",
       "top         vtssum  videolectures.net  http://videolectures.net   \n",
       "freq          9229               9229                      9229   \n",
       "\n",
       "            lecture_title                                         transcript  \n",
       "count               14677                                              14677  \n",
       "unique              13417                                              14677  \n",
       "top     Poster Spotlights  MARKUS KLUTE: Welcome to 8.20. Welcome to Spec...  \n",
       "freq                   23                                                  1  "
      ]
     },
     "execution_count": 12,
     "metadata": {},
     "output_type": "execute_result"
    }
   ],
   "source": [
    "df[['from_subset', 'course_title', 'course_url', 'lecture_title', 'transcript']].describe()"
   ]
  },
  {
   "cell_type": "code",
   "execution_count": 13,
   "id": "3cde72c0-9672-4b14-9ff6-6eb6a8b5f1b1",
   "metadata": {},
   "outputs": [
    {
     "data": {
      "text/plain": [
       "count                                                  3397\n",
       "unique                                                  126\n",
       "top       https://ocw.mit.edu/courses/res-6-012-introduc...\n",
       "freq                                                    241\n",
       "Name: course_url, dtype: object"
      ]
     },
     "execution_count": 13,
     "metadata": {},
     "output_type": "execute_result"
    }
   ],
   "source": [
    "df[df['from_subset'] == \"mitocw\"]['course_url'].describe()"
   ]
  },
  {
   "cell_type": "code",
   "execution_count": 14,
   "id": "14ad7e22-87e6-418c-87da-38d8494b5d2a",
   "metadata": {},
   "outputs": [
    {
     "data": {
      "text/plain": [
       "count                                                   957\n",
       "unique                                                   28\n",
       "top       https://open.hpi.de/courses/hpi-learningatscal...\n",
       "freq                                                     87\n",
       "Name: course_url, dtype: object"
      ]
     },
     "execution_count": 14,
     "metadata": {},
     "output_type": "execute_result"
    }
   ],
   "source": [
    "df[df['from_subset'] == \"openhpi\"]['course_url'].describe()"
   ]
  },
  {
   "cell_type": "code",
   "execution_count": 15,
   "id": "02c70c44-f287-4dcc-b007-7ec62ffa2c95",
   "metadata": {},
   "outputs": [
    {
     "data": {
      "text/plain": [
       "count                         9229\n",
       "unique                           1\n",
       "top       http://videolectures.net\n",
       "freq                          9229\n",
       "Name: course_url, dtype: object"
      ]
     },
     "execution_count": 15,
     "metadata": {},
     "output_type": "execute_result"
    }
   ],
   "source": [
    "df[df['from_subset'] == \"vtssum\"]['course_url'].describe()"
   ]
  },
  {
   "cell_type": "code",
   "execution_count": 16,
   "id": "ad15bb23-379e-45d1-b7f7-25bac05dad98",
   "metadata": {},
   "outputs": [
    {
     "data": {
      "text/plain": [
       "count                                                  1094\n",
       "unique                                                   43\n",
       "top       https://www.youtube.com/playlist?list=PL3F629F...\n",
       "freq                                                     36\n",
       "Name: course_url, dtype: object"
      ]
     },
     "execution_count": 16,
     "metadata": {},
     "output_type": "execute_result"
    }
   ],
   "source": [
    "df[df['from_subset'] == \"yale\"]['course_url'].describe()"
   ]
  },
  {
   "cell_type": "code",
   "execution_count": 17,
   "id": "eee787cc-b853-48f2-853b-d82d6e971ef1",
   "metadata": {},
   "outputs": [],
   "source": [
    "# df[df['lecture_title'] == \"Poster Spotlights\"]  # these are all different even if they have the same lecture title"
   ]
  },
  {
   "cell_type": "code",
   "execution_count": 18,
   "id": "b2d9ef91-f4bd-4083-ba67-69c0389c3992",
   "metadata": {},
   "outputs": [
    {
     "data": {
      "text/plain": [
       "vtssum     9229\n",
       "mitocw     3397\n",
       "yale       1094\n",
       "openhpi     957\n",
       "Name: from_subset, dtype: int64"
      ]
     },
     "execution_count": 18,
     "metadata": {},
     "output_type": "execute_result"
    }
   ],
   "source": [
    "df['from_subset'].value_counts()"
   ]
  },
  {
   "cell_type": "markdown",
   "id": "9b18bc12-ff97-4894-8df4-1dc6442fe60c",
   "metadata": {},
   "source": [
    "### Transcript lengths distribution"
   ]
  },
  {
   "cell_type": "code",
   "execution_count": 19,
   "id": "0038a536-6f4b-440e-b8eb-7f3d5edb6791",
   "metadata": {},
   "outputs": [
    {
     "data": {
      "text/html": [
       "<div>\n",
       "<style scoped>\n",
       "    .dataframe tbody tr th:only-of-type {\n",
       "        vertical-align: middle;\n",
       "    }\n",
       "\n",
       "    .dataframe tbody tr th {\n",
       "        vertical-align: top;\n",
       "    }\n",
       "\n",
       "    .dataframe thead th {\n",
       "        text-align: right;\n",
       "    }\n",
       "</style>\n",
       "<table border=\"1\" class=\"dataframe\">\n",
       "  <thead>\n",
       "    <tr style=\"text-align: right;\">\n",
       "      <th></th>\n",
       "      <th>transcript_length_tokens</th>\n",
       "      <th>transcript_length_words</th>\n",
       "      <th>transcript_length_sentences</th>\n",
       "      <th>transcript_length_characters</th>\n",
       "    </tr>\n",
       "  </thead>\n",
       "  <tbody>\n",
       "    <tr>\n",
       "      <th>count</th>\n",
       "      <td>14677.000000</td>\n",
       "      <td>14677.000000</td>\n",
       "      <td>14677.000000</td>\n",
       "      <td>14677.000000</td>\n",
       "    </tr>\n",
       "    <tr>\n",
       "      <th>mean</th>\n",
       "      <td>4355.428153</td>\n",
       "      <td>4148.813313</td>\n",
       "      <td>240.148191</td>\n",
       "      <td>19905.514547</td>\n",
       "    </tr>\n",
       "    <tr>\n",
       "      <th>std</th>\n",
       "      <td>4175.271288</td>\n",
       "      <td>3946.232018</td>\n",
       "      <td>239.858661</td>\n",
       "      <td>18386.998503</td>\n",
       "    </tr>\n",
       "    <tr>\n",
       "      <th>min</th>\n",
       "      <td>102.000000</td>\n",
       "      <td>97.000000</td>\n",
       "      <td>1.000000</td>\n",
       "      <td>508.000000</td>\n",
       "    </tr>\n",
       "    <tr>\n",
       "      <th>25%</th>\n",
       "      <td>1302.000000</td>\n",
       "      <td>1251.000000</td>\n",
       "      <td>69.000000</td>\n",
       "      <td>6301.000000</td>\n",
       "    </tr>\n",
       "    <tr>\n",
       "      <th>50%</th>\n",
       "      <td>2487.000000</td>\n",
       "      <td>2402.000000</td>\n",
       "      <td>139.000000</td>\n",
       "      <td>11954.000000</td>\n",
       "    </tr>\n",
       "    <tr>\n",
       "      <th>75%</th>\n",
       "      <td>6952.000000</td>\n",
       "      <td>6606.000000</td>\n",
       "      <td>361.000000</td>\n",
       "      <td>31268.000000</td>\n",
       "    </tr>\n",
       "    <tr>\n",
       "      <th>90%</th>\n",
       "      <td>10842.800000</td>\n",
       "      <td>10240.800000</td>\n",
       "      <td>593.000000</td>\n",
       "      <td>48351.400000</td>\n",
       "    </tr>\n",
       "    <tr>\n",
       "      <th>95%</th>\n",
       "      <td>13228.600000</td>\n",
       "      <td>12521.200000</td>\n",
       "      <td>741.000000</td>\n",
       "      <td>58259.600000</td>\n",
       "    </tr>\n",
       "    <tr>\n",
       "      <th>98.9%</th>\n",
       "      <td>16255.588000</td>\n",
       "      <td>15451.948000</td>\n",
       "      <td>1006.000000</td>\n",
       "      <td>72102.588000</td>\n",
       "    </tr>\n",
       "    <tr>\n",
       "      <th>99%</th>\n",
       "      <td>16461.960000</td>\n",
       "      <td>15608.920000</td>\n",
       "      <td>1023.000000</td>\n",
       "      <td>72735.080000</td>\n",
       "    </tr>\n",
       "    <tr>\n",
       "      <th>max</th>\n",
       "      <td>31053.000000</td>\n",
       "      <td>29723.000000</td>\n",
       "      <td>2267.000000</td>\n",
       "      <td>134285.000000</td>\n",
       "    </tr>\n",
       "  </tbody>\n",
       "</table>\n",
       "</div>"
      ],
      "text/plain": [
       "       transcript_length_tokens  transcript_length_words  \\\n",
       "count              14677.000000             14677.000000   \n",
       "mean                4355.428153              4148.813313   \n",
       "std                 4175.271288              3946.232018   \n",
       "min                  102.000000                97.000000   \n",
       "25%                 1302.000000              1251.000000   \n",
       "50%                 2487.000000              2402.000000   \n",
       "75%                 6952.000000              6606.000000   \n",
       "90%                10842.800000             10240.800000   \n",
       "95%                13228.600000             12521.200000   \n",
       "98.9%              16255.588000             15451.948000   \n",
       "99%                16461.960000             15608.920000   \n",
       "max                31053.000000             29723.000000   \n",
       "\n",
       "       transcript_length_sentences  transcript_length_characters  \n",
       "count                 14677.000000                  14677.000000  \n",
       "mean                    240.148191                  19905.514547  \n",
       "std                     239.858661                  18386.998503  \n",
       "min                       1.000000                    508.000000  \n",
       "25%                      69.000000                   6301.000000  \n",
       "50%                     139.000000                  11954.000000  \n",
       "75%                     361.000000                  31268.000000  \n",
       "90%                     593.000000                  48351.400000  \n",
       "95%                     741.000000                  58259.600000  \n",
       "98.9%                  1006.000000                  72102.588000  \n",
       "99%                    1023.000000                  72735.080000  \n",
       "max                    2267.000000                 134285.000000  "
      ]
     },
     "execution_count": 19,
     "metadata": {},
     "output_type": "execute_result"
    }
   ],
   "source": [
    "df[['transcript_length_tokens', 'transcript_length_words', 'transcript_length_sentences', 'transcript_length_characters']].describe(percentiles=[0.25, 0.50, 0.75, 0.90, 0.95, 0.989, 0.99])"
   ]
  },
  {
   "cell_type": "markdown",
   "id": "94183ec8-4ef0-4232-bc38-034d993004f3",
   "metadata": {},
   "source": [
    "As we can see from the table above, **98.9% of transcripts are within LED's 16384 maximum token length**."
   ]
  },
  {
   "cell_type": "code",
   "execution_count": 20,
   "id": "457f6bfa-9c4d-4e20-b2c4-8eb0e1de1085",
   "metadata": {},
   "outputs": [],
   "source": [
    "#sns.set(rc={\"figure.figsize\": (8, 4.5)})  # change seaborn plot size\n",
    "#sns.set_style(\"ticks\", {'axes.grid' : True})\n",
    "#sns.set(style=\"ticks\")\n",
    "#sns.reset_defaults()\n",
    "sns.set_style(\"whitegrid\")"
   ]
  },
  {
   "cell_type": "code",
   "execution_count": 21,
   "id": "d99375b7-5a79-4280-b623-b196a964f23a",
   "metadata": {},
   "outputs": [
    {
     "data": {
      "image/png": "[encoded data removed]",
      "text/plain": [
       "<Figure size 640x480 with 1 Axes>"
      ]
     },
     "metadata": {},
     "output_type": "display_data"
    }
   ],
   "source": [
    "# docs: https://seaborn.pydata.org/generated/seaborn.histplot.html\n",
    "# custom legend: https://stackoverflow.com/a/45211976\n",
    "# good color palettes are viridis and icefire (but the colors are similar): https://seaborn.pydata.org/tutorial/color_palettes.html\n",
    "axes = sns.histplot(df, x=\"transcript_length_tokens\", hue=\"from_subset\", kde=True)\n",
    "axes.set(xlabel=\"Transcript Length in Tokens\", xlim=(0, max(df['transcript_length_tokens'])))\n",
    "axes.legend_.set_title(\"Subset\")\n",
    "for t, l in zip(axes.legend_.texts, [\"MIT OCW\", \"OpenHPI\", \"VT-SSum\", \"Yale\"]):\n",
    "    t.set_text(l)\n",
    "fig = axes.get_figure()\n",
    "fig.savefig(\"openultd_transcript_length_tokens_distribution.svg\")"
   ]
  },
  {
   "cell_type": "code",
   "execution_count": 22,
   "id": "6cc0e254-f95e-4cd8-a95c-b3b129a18954",
   "metadata": {},
   "outputs": [
    {
     "data": {
      "image/png": "[encoded data removed]",
      "text/plain": [
       "<Figure size 640x480 with 1 Axes>"
      ]
     },
     "metadata": {},
     "output_type": "display_data"
    }
   ],
   "source": [
    "# length of courses in terms of lectures (exclude VT-SSum)\n",
    "\n",
    "df_courses = df[df['from_subset'] != \"vtssum\"].copy()\n",
    "# https://stackoverflow.com/a/63255023\n",
    "df_courses['lectures_number'] = df_courses['course_url'].map(df_courses['course_url'].value_counts())\n",
    "\n",
    "axes = sns.histplot(df_courses, x=\"lectures_number\", hue=\"from_subset\", kde=False, multiple=\"stack\")\n",
    "axes.set(xlabel=\"Number of Lectures in Course\", xlim=(0, max(df_courses['lectures_number'])), xticks=range(0, max(df_courses['lectures_number']), 10))\n",
    "axes.set_xticklabels(axes.get_xticklabels(), rotation=90)\n",
    "axes.legend_.set_title(\"Subset\")\n",
    "for t, l in zip(axes.legend_.texts, [\"MIT OCW\", \"OpenHPI\", \"Yale\"]):\n",
    "    t.set_text(l)\n",
    "fig = axes.get_figure()\n",
    "fig.savefig(\"openultd_lectures_per_course_distribution.svg\")"
   ]
  },
  {
   "cell_type": "code",
   "execution_count": 23,
   "id": "7a2a74fc-26bd-42d4-8acf-da43a3aa3a4f",
   "metadata": {},
   "outputs": [
    {
     "data": {
      "image/png": "[encoded data removed]",
      "text/plain": [
       "<Figure size 640x480 with 1 Axes>"
      ]
     },
     "metadata": {},
     "output_type": "display_data"
    }
   ],
   "source": [
    "# correlation between the four types of transcript length\n",
    "transcript_length_keys = [\"transcript_length_tokens\", \"transcript_length_words\", \"transcript_length_sentences\", \"transcript_length_characters\"]\n",
    "for x in transcript_length_keys:\n",
    "    axes = sns.histplot(df, x=x, element=\"poly\", log_scale=True, fill=False)\n",
    "    axes.set(xlabel=\"Transcript Length\", xlim=(1, max(df['transcript_length_characters'])))\n",
    "\n",
    "fig = axes.get_figure()\n",
    "fig.legend(title=\"Length in\", loc=(0.15, 0.61), labels=[k.split(\"_\")[-1].title() for k in transcript_length_keys])\n",
    "fig.savefig(\"openultd_transcript_length_tokens_vs_words_vs_sentences_vs_characters.svg\")"
   ]
  },
  {
   "cell_type": "markdown",
   "id": "f44ba1c6-1756-4901-897b-7a3cb57e91b7",
   "metadata": {},
   "source": [
    "### Save space\n",
    "1. keep only \"transcript\" column\n",
    "2. rename it to \"text\" (see [here](https://github.com/huggingface/transformers/blob/7032e0203262ebb2ebf55da8d2e01f873973e835/examples/pytorch/language-modeling/run_mlm.py#L276))."
   ]
  },
  {
   "cell_type": "code",
   "execution_count": 24,
   "id": "2120298a-6d2c-4ea1-9d20-d55947ba8217",
   "metadata": {},
   "outputs": [],
   "source": [
    "df = df[['transcript']].copy()"
   ]
  },
  {
   "cell_type": "code",
   "execution_count": 25,
   "id": "4f39b147-3dcc-4254-871f-96a45829ccf1",
   "metadata": {},
   "outputs": [],
   "source": [
    "df.rename(columns={'transcript': 'text'}, inplace=True)"
   ]
  },
  {
   "cell_type": "code",
   "execution_count": 26,
   "id": "fea7015e-9606-412f-b24c-41016eee673c",
   "metadata": {},
   "outputs": [
    {
     "data": {
      "text/html": [
       "<div>\n",
       "<style scoped>\n",
       "    .dataframe tbody tr th:only-of-type {\n",
       "        vertical-align: middle;\n",
       "    }\n",
       "\n",
       "    .dataframe tbody tr th {\n",
       "        vertical-align: top;\n",
       "    }\n",
       "\n",
       "    .dataframe thead th {\n",
       "        text-align: right;\n",
       "    }\n",
       "</style>\n",
       "<table border=\"1\" class=\"dataframe\">\n",
       "  <thead>\n",
       "    <tr style=\"text-align: right;\">\n",
       "      <th></th>\n",
       "      <th>text</th>\n",
       "    </tr>\n",
       "  </thead>\n",
       "  <tbody>\n",
       "    <tr>\n",
       "      <th>0</th>\n",
       "      <td>MARKUS KLUTE: Welcome to 8.20. Welcome to Spec...</td>\n",
       "    </tr>\n",
       "    <tr>\n",
       "      <th>1</th>\n",
       "      <td>PROFESSOR: Hello, and welcome back to 8.20, sp...</td>\n",
       "    </tr>\n",
       "  </tbody>\n",
       "</table>\n",
       "</div>"
      ],
      "text/plain": [
       "                                                text\n",
       "0  MARKUS KLUTE: Welcome to 8.20. Welcome to Spec...\n",
       "1  PROFESSOR: Hello, and welcome back to 8.20, sp..."
      ]
     },
     "execution_count": 26,
     "metadata": {},
     "output_type": "execute_result"
    }
   ],
   "source": [
    "df.head(2)"
   ]
  },
  {
   "cell_type": "markdown",
   "id": "7c79c96d-40e5-4d6c-8e84-428e69754da0",
   "metadata": {},
   "source": [
    "### Split dataset into train, dev, test"
   ]
  },
  {
   "cell_type": "code",
   "execution_count": 27,
   "id": "dd32ff22-be44-454d-969c-71befabf3d90",
   "metadata": {},
   "outputs": [],
   "source": [
    "seed = 42\n",
    "\n",
    "np.random.seed(seed)\n",
    "train_split = 0.8\n",
    "dev_split = test_split = 0.1\n",
    "\n",
    "# only make test split if needed\n",
    "make_test_split = False"
   ]
  },
  {
   "cell_type": "code",
   "execution_count": 28,
   "id": "06fe9039-043e-4f87-af52-69103c0667cf",
   "metadata": {},
   "outputs": [
    {
     "data": {
      "text/plain": [
       "(13209, 0.8999795598555563, 1468, 0.10002044014444368, 0, 0.0, True)"
      ]
     },
     "execution_count": 28,
     "metadata": {},
     "output_type": "execute_result"
    }
   ],
   "source": [
    "if not make_test_split:\n",
    "    train_split += test_split\n",
    "    test_split = 0.\n",
    "\n",
    "train, dev, test = np.split(\n",
    "    df.sample(frac=1, random_state=seed),\n",
    "    [int(train_split * len(df)), int((train_split + dev_split) * len(df))],\n",
    ")\n",
    "len(train), len(train) / len(df), len(dev), len(dev) / len(df), len(test), len(test) / len(df), len(train) + len(dev) + len(test) == len(df)"
   ]
  },
  {
   "cell_type": "code",
   "execution_count": 29,
   "id": "d4c164d1-7282-4138-826b-2266efdc8a3b",
   "metadata": {},
   "outputs": [
    {
     "data": {
      "text/html": [
       "<div>\n",
       "<style scoped>\n",
       "    .dataframe tbody tr th:only-of-type {\n",
       "        vertical-align: middle;\n",
       "    }\n",
       "\n",
       "    .dataframe tbody tr th {\n",
       "        vertical-align: top;\n",
       "    }\n",
       "\n",
       "    .dataframe thead th {\n",
       "        text-align: right;\n",
       "    }\n",
       "</style>\n",
       "<table border=\"1\" class=\"dataframe\">\n",
       "  <thead>\n",
       "    <tr style=\"text-align: right;\">\n",
       "      <th></th>\n",
       "      <th>text</th>\n",
       "    </tr>\n",
       "  </thead>\n",
       "  <tbody>\n",
       "    <tr>\n",
       "      <th>5569</th>\n",
       "      <td>I have 40 minutes or something, right? Yeah. J...</td>\n",
       "    </tr>\n",
       "    <tr>\n",
       "      <th>1487</th>\n",
       "      <td>PROFESSOR: interpretation of the wave function...</td>\n",
       "    </tr>\n",
       "    <tr>\n",
       "      <th>13320</th>\n",
       "      <td>Welcome to the lecture on the Muse project. Mu...</td>\n",
       "    </tr>\n",
       "  </tbody>\n",
       "</table>\n",
       "</div>"
      ],
      "text/plain": [
       "                                                    text\n",
       "5569   I have 40 minutes or something, right? Yeah. J...\n",
       "1487   PROFESSOR: interpretation of the wave function...\n",
       "13320  Welcome to the lecture on the Muse project. Mu..."
      ]
     },
     "execution_count": 29,
     "metadata": {},
     "output_type": "execute_result"
    }
   ],
   "source": [
    "train.head(3)"
   ]
  },
  {
   "cell_type": "code",
   "execution_count": 30,
   "id": "87c1de3d-36e2-4cd4-a5dc-068aa7de5b19",
   "metadata": {},
   "outputs": [
    {
     "data": {
      "text/html": [
       "<div>\n",
       "<style scoped>\n",
       "    .dataframe tbody tr th:only-of-type {\n",
       "        vertical-align: middle;\n",
       "    }\n",
       "\n",
       "    .dataframe tbody tr th {\n",
       "        vertical-align: top;\n",
       "    }\n",
       "\n",
       "    .dataframe thead th {\n",
       "        text-align: right;\n",
       "    }\n",
       "</style>\n",
       "<table border=\"1\" class=\"dataframe\">\n",
       "  <thead>\n",
       "    <tr style=\"text-align: right;\">\n",
       "      <th></th>\n",
       "      <th>text</th>\n",
       "    </tr>\n",
       "  </thead>\n",
       "  <tbody>\n",
       "    <tr>\n",
       "      <th>1239</th>\n",
       "      <td>Last week, we discussed the kinematics of moti...</td>\n",
       "    </tr>\n",
       "    <tr>\n",
       "      <th>13565</th>\n",
       "      <td>So in this talk I will present you the work I'...</td>\n",
       "    </tr>\n",
       "    <tr>\n",
       "      <th>5146</th>\n",
       "      <td>What I'm going to talk about is stochastic con...</td>\n",
       "    </tr>\n",
       "  </tbody>\n",
       "</table>\n",
       "</div>"
      ],
      "text/plain": [
       "                                                    text\n",
       "1239   Last week, we discussed the kinematics of moti...\n",
       "13565  So in this talk I will present you the work I'...\n",
       "5146   What I'm going to talk about is stochastic con..."
      ]
     },
     "execution_count": 30,
     "metadata": {},
     "output_type": "execute_result"
    }
   ],
   "source": [
    "dev.head(3)"
   ]
  },
  {
   "cell_type": "code",
   "execution_count": 31,
   "id": "df5efacf-ea6e-484c-8183-2d2b0bf378fc",
   "metadata": {},
   "outputs": [],
   "source": [
    "if make_test_split:\n",
    "    test.head(3)"
   ]
  },
  {
   "cell_type": "markdown",
   "id": "5455b36c-f462-4b4c-9549-7b4ef949e696",
   "metadata": {},
   "source": [
    "### Save dataset as CSV files"
   ]
  },
  {
   "cell_type": "code",
   "execution_count": 32,
   "id": "31d7ce1a-5676-4e86-b05f-c644e6425adc",
   "metadata": {},
   "outputs": [],
   "source": [
    "train.to_csv(train_split_csv_file)\n",
    "dev.to_csv(dev_split_csv_file)\n",
    "if make_test_split:\n",
    "    test.to_csv(test_split_csv_file)"
   ]
  },
  {
   "cell_type": "code",
   "execution_count": null,
   "id": "5c572cec-4928-475f-b335-4957557d5060",
   "metadata": {},
   "outputs": [],
   "source": []
  }
 ],
 "metadata": {
  "kernelspec": {
   "display_name": "Python 3 (ipykernel)",
   "language": "python",
   "name": "python3"
  },
  "language_info": {
   "codemirror_mode": {
    "name": "ipython",
    "version": 3
   },
   "file_extension": ".py",
   "mimetype": "text/x-python",
   "name": "python",
   "nbconvert_exporter": "python",
   "pygments_lexer": "ipython3",
   "version": "3.10.6"
  }
 },
 "nbformat": 4,
 "nbformat_minor": 5
}
